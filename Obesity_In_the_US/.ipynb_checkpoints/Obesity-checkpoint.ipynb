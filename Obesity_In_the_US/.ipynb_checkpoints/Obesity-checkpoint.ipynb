{
 "cells": [
  {
   "cell_type": "code",
   "execution_count": 69,
   "metadata": {},
   "outputs": [],
   "source": [
    "library(dplyr)\n",
    "library(ggplot2)\n",
    "library(reshape2)"
   ]
  },
  {
   "cell_type": "code",
   "execution_count": 64,
   "metadata": {},
   "outputs": [
    {
     "name": "stdout",
     "output_type": "stream",
     "text": [
      "[1] 53392\n",
      "[1] 33\n"
     ]
    },
    {
     "data": {
      "text/html": [
       "<table>\n",
       "<thead><tr><th scope=col>YearStart</th><th scope=col>YearEnd</th><th scope=col>LocationAbbr</th><th scope=col>LocationDesc</th><th scope=col>Datasource</th><th scope=col>Class</th><th scope=col>Topic</th><th scope=col>Question</th><th scope=col>Data_Value_Unit</th><th scope=col>Data_Value_Type</th><th scope=col>...</th><th scope=col>GeoLocation</th><th scope=col>ClassID</th><th scope=col>TopicID</th><th scope=col>QuestionID</th><th scope=col>DataValueTypeID</th><th scope=col>LocationID</th><th scope=col>StratificationCategory1</th><th scope=col>Stratification1</th><th scope=col>StratificationCategoryId1</th><th scope=col>StratificationID1</th></tr></thead>\n",
       "<tbody>\n",
       "\t<tr><td>2011                                                      </td><td>2011                                                      </td><td>AL                                                        </td><td>Alabama                                                   </td><td>Behavioral Risk Factor Surveillance System                </td><td>Obesity / Weight Status                                   </td><td>Obesity / Weight Status                                   </td><td>Percent of adults aged 18 years and older who have obesity</td><td>NA                                                        </td><td>Value                                                     </td><td>...                                                       </td><td>(32.84057112200048, -86.63186076199969)                   </td><td>OWS                                                       </td><td>OWS1                                                      </td><td>Q036                                                      </td><td>VALUE                                                     </td><td>1                                                         </td><td>Total                                                     </td><td>Total                                                     </td><td>OVR                                                       </td><td>OVERALL                                                   </td></tr>\n",
       "\t<tr><td>2011                                                      </td><td>2011                                                      </td><td>AL                                                        </td><td>Alabama                                                   </td><td>Behavioral Risk Factor Surveillance System                </td><td>Obesity / Weight Status                                   </td><td>Obesity / Weight Status                                   </td><td>Percent of adults aged 18 years and older who have obesity</td><td>NA                                                        </td><td>Value                                                     </td><td>...                                                       </td><td>(32.84057112200048, -86.63186076199969)                   </td><td>OWS                                                       </td><td>OWS1                                                      </td><td>Q036                                                      </td><td>VALUE                                                     </td><td>1                                                         </td><td>Gender                                                    </td><td>Male                                                      </td><td>GEN                                                       </td><td>MALE                                                      </td></tr>\n",
       "\t<tr><td>2011                                                      </td><td>2011                                                      </td><td>AL                                                        </td><td>Alabama                                                   </td><td>Behavioral Risk Factor Surveillance System                </td><td>Obesity / Weight Status                                   </td><td>Obesity / Weight Status                                   </td><td>Percent of adults aged 18 years and older who have obesity</td><td>NA                                                        </td><td>Value                                                     </td><td>...                                                       </td><td>(32.84057112200048, -86.63186076199969)                   </td><td>OWS                                                       </td><td>OWS1                                                      </td><td>Q036                                                      </td><td>VALUE                                                     </td><td>1                                                         </td><td>Gender                                                    </td><td>Female                                                    </td><td>GEN                                                       </td><td>FEMALE                                                    </td></tr>\n",
       "\t<tr><td>2011                                                      </td><td>2011                                                      </td><td>AL                                                        </td><td>Alabama                                                   </td><td>Behavioral Risk Factor Surveillance System                </td><td>Obesity / Weight Status                                   </td><td>Obesity / Weight Status                                   </td><td>Percent of adults aged 18 years and older who have obesity</td><td>NA                                                        </td><td>Value                                                     </td><td>...                                                       </td><td>(32.84057112200048, -86.63186076199969)                   </td><td>OWS                                                       </td><td>OWS1                                                      </td><td>Q036                                                      </td><td>VALUE                                                     </td><td>1                                                         </td><td>Education                                                 </td><td>Less than high school                                     </td><td>EDU                                                       </td><td>EDUHS                                                     </td></tr>\n",
       "\t<tr><td>2011                                                      </td><td>2011                                                      </td><td>AL                                                        </td><td>Alabama                                                   </td><td>Behavioral Risk Factor Surveillance System                </td><td>Obesity / Weight Status                                   </td><td>Obesity / Weight Status                                   </td><td>Percent of adults aged 18 years and older who have obesity</td><td>NA                                                        </td><td>Value                                                     </td><td>...                                                       </td><td>(32.84057112200048, -86.63186076199969)                   </td><td>OWS                                                       </td><td>OWS1                                                      </td><td>Q036                                                      </td><td>VALUE                                                     </td><td>1                                                         </td><td>Education                                                 </td><td>High school graduate                                      </td><td>EDU                                                       </td><td>EDUHSGRAD                                                 </td></tr>\n",
       "\t<tr><td>2011                                                      </td><td>2011                                                      </td><td>AL                                                        </td><td>Alabama                                                   </td><td>Behavioral Risk Factor Surveillance System                </td><td>Obesity / Weight Status                                   </td><td>Obesity / Weight Status                                   </td><td>Percent of adults aged 18 years and older who have obesity</td><td>NA                                                        </td><td>Value                                                     </td><td>...                                                       </td><td>(32.84057112200048, -86.63186076199969)                   </td><td>OWS                                                       </td><td>OWS1                                                      </td><td>Q036                                                      </td><td>VALUE                                                     </td><td>1                                                         </td><td>Education                                                 </td><td>Some college or technical school                          </td><td>EDU                                                       </td><td>EDUCOTEC                                                  </td></tr>\n",
       "</tbody>\n",
       "</table>\n"
      ],
      "text/latex": [
       "\\begin{tabular}{r|lllllllllllllllllllllllllllllllll}\n",
       " YearStart & YearEnd & LocationAbbr & LocationDesc & Datasource & Class & Topic & Question & Data\\_Value\\_Unit & Data\\_Value\\_Type & ... & GeoLocation & ClassID & TopicID & QuestionID & DataValueTypeID & LocationID & StratificationCategory1 & Stratification1 & StratificationCategoryId1 & StratificationID1\\\\\n",
       "\\hline\n",
       "\t 2011                                                       & 2011                                                       & AL                                                         & Alabama                                                    & Behavioral Risk Factor Surveillance System                 & Obesity / Weight Status                                    & Obesity / Weight Status                                    & Percent of adults aged 18 years and older who have obesity & NA                                                         & Value                                                      & ...                                                        & (32.84057112200048, -86.63186076199969)                    & OWS                                                        & OWS1                                                       & Q036                                                       & VALUE                                                      & 1                                                          & Total                                                      & Total                                                      & OVR                                                        & OVERALL                                                   \\\\\n",
       "\t 2011                                                       & 2011                                                       & AL                                                         & Alabama                                                    & Behavioral Risk Factor Surveillance System                 & Obesity / Weight Status                                    & Obesity / Weight Status                                    & Percent of adults aged 18 years and older who have obesity & NA                                                         & Value                                                      & ...                                                        & (32.84057112200048, -86.63186076199969)                    & OWS                                                        & OWS1                                                       & Q036                                                       & VALUE                                                      & 1                                                          & Gender                                                     & Male                                                       & GEN                                                        & MALE                                                      \\\\\n",
       "\t 2011                                                       & 2011                                                       & AL                                                         & Alabama                                                    & Behavioral Risk Factor Surveillance System                 & Obesity / Weight Status                                    & Obesity / Weight Status                                    & Percent of adults aged 18 years and older who have obesity & NA                                                         & Value                                                      & ...                                                        & (32.84057112200048, -86.63186076199969)                    & OWS                                                        & OWS1                                                       & Q036                                                       & VALUE                                                      & 1                                                          & Gender                                                     & Female                                                     & GEN                                                        & FEMALE                                                    \\\\\n",
       "\t 2011                                                       & 2011                                                       & AL                                                         & Alabama                                                    & Behavioral Risk Factor Surveillance System                 & Obesity / Weight Status                                    & Obesity / Weight Status                                    & Percent of adults aged 18 years and older who have obesity & NA                                                         & Value                                                      & ...                                                        & (32.84057112200048, -86.63186076199969)                    & OWS                                                        & OWS1                                                       & Q036                                                       & VALUE                                                      & 1                                                          & Education                                                  & Less than high school                                      & EDU                                                        & EDUHS                                                     \\\\\n",
       "\t 2011                                                       & 2011                                                       & AL                                                         & Alabama                                                    & Behavioral Risk Factor Surveillance System                 & Obesity / Weight Status                                    & Obesity / Weight Status                                    & Percent of adults aged 18 years and older who have obesity & NA                                                         & Value                                                      & ...                                                        & (32.84057112200048, -86.63186076199969)                    & OWS                                                        & OWS1                                                       & Q036                                                       & VALUE                                                      & 1                                                          & Education                                                  & High school graduate                                       & EDU                                                        & EDUHSGRAD                                                 \\\\\n",
       "\t 2011                                                       & 2011                                                       & AL                                                         & Alabama                                                    & Behavioral Risk Factor Surveillance System                 & Obesity / Weight Status                                    & Obesity / Weight Status                                    & Percent of adults aged 18 years and older who have obesity & NA                                                         & Value                                                      & ...                                                        & (32.84057112200048, -86.63186076199969)                    & OWS                                                        & OWS1                                                       & Q036                                                       & VALUE                                                      & 1                                                          & Education                                                  & Some college or technical school                           & EDU                                                        & EDUCOTEC                                                  \\\\\n",
       "\\end{tabular}\n"
      ],
      "text/markdown": [
       "\n",
       "YearStart | YearEnd | LocationAbbr | LocationDesc | Datasource | Class | Topic | Question | Data_Value_Unit | Data_Value_Type | ... | GeoLocation | ClassID | TopicID | QuestionID | DataValueTypeID | LocationID | StratificationCategory1 | Stratification1 | StratificationCategoryId1 | StratificationID1 | \n",
       "|---|---|---|---|---|---|\n",
       "| 2011                                                       | 2011                                                       | AL                                                         | Alabama                                                    | Behavioral Risk Factor Surveillance System                 | Obesity / Weight Status                                    | Obesity / Weight Status                                    | Percent of adults aged 18 years and older who have obesity | NA                                                         | Value                                                      | ...                                                        | (32.84057112200048, -86.63186076199969)                    | OWS                                                        | OWS1                                                       | Q036                                                       | VALUE                                                      | 1                                                          | Total                                                      | Total                                                      | OVR                                                        | OVERALL                                                    | \n",
       "| 2011                                                       | 2011                                                       | AL                                                         | Alabama                                                    | Behavioral Risk Factor Surveillance System                 | Obesity / Weight Status                                    | Obesity / Weight Status                                    | Percent of adults aged 18 years and older who have obesity | NA                                                         | Value                                                      | ...                                                        | (32.84057112200048, -86.63186076199969)                    | OWS                                                        | OWS1                                                       | Q036                                                       | VALUE                                                      | 1                                                          | Gender                                                     | Male                                                       | GEN                                                        | MALE                                                       | \n",
       "| 2011                                                       | 2011                                                       | AL                                                         | Alabama                                                    | Behavioral Risk Factor Surveillance System                 | Obesity / Weight Status                                    | Obesity / Weight Status                                    | Percent of adults aged 18 years and older who have obesity | NA                                                         | Value                                                      | ...                                                        | (32.84057112200048, -86.63186076199969)                    | OWS                                                        | OWS1                                                       | Q036                                                       | VALUE                                                      | 1                                                          | Gender                                                     | Female                                                     | GEN                                                        | FEMALE                                                     | \n",
       "| 2011                                                       | 2011                                                       | AL                                                         | Alabama                                                    | Behavioral Risk Factor Surveillance System                 | Obesity / Weight Status                                    | Obesity / Weight Status                                    | Percent of adults aged 18 years and older who have obesity | NA                                                         | Value                                                      | ...                                                        | (32.84057112200048, -86.63186076199969)                    | OWS                                                        | OWS1                                                       | Q036                                                       | VALUE                                                      | 1                                                          | Education                                                  | Less than high school                                      | EDU                                                        | EDUHS                                                      | \n",
       "| 2011                                                       | 2011                                                       | AL                                                         | Alabama                                                    | Behavioral Risk Factor Surveillance System                 | Obesity / Weight Status                                    | Obesity / Weight Status                                    | Percent of adults aged 18 years and older who have obesity | NA                                                         | Value                                                      | ...                                                        | (32.84057112200048, -86.63186076199969)                    | OWS                                                        | OWS1                                                       | Q036                                                       | VALUE                                                      | 1                                                          | Education                                                  | High school graduate                                       | EDU                                                        | EDUHSGRAD                                                  | \n",
       "| 2011                                                       | 2011                                                       | AL                                                         | Alabama                                                    | Behavioral Risk Factor Surveillance System                 | Obesity / Weight Status                                    | Obesity / Weight Status                                    | Percent of adults aged 18 years and older who have obesity | NA                                                         | Value                                                      | ...                                                        | (32.84057112200048, -86.63186076199969)                    | OWS                                                        | OWS1                                                       | Q036                                                       | VALUE                                                      | 1                                                          | Education                                                  | Some college or technical school                           | EDU                                                        | EDUCOTEC                                                   | \n",
       "\n",
       "\n"
      ],
      "text/plain": [
       "  YearStart YearEnd LocationAbbr LocationDesc\n",
       "1 2011      2011    AL           Alabama     \n",
       "2 2011      2011    AL           Alabama     \n",
       "3 2011      2011    AL           Alabama     \n",
       "4 2011      2011    AL           Alabama     \n",
       "5 2011      2011    AL           Alabama     \n",
       "6 2011      2011    AL           Alabama     \n",
       "  Datasource                                 Class                  \n",
       "1 Behavioral Risk Factor Surveillance System Obesity / Weight Status\n",
       "2 Behavioral Risk Factor Surveillance System Obesity / Weight Status\n",
       "3 Behavioral Risk Factor Surveillance System Obesity / Weight Status\n",
       "4 Behavioral Risk Factor Surveillance System Obesity / Weight Status\n",
       "5 Behavioral Risk Factor Surveillance System Obesity / Weight Status\n",
       "6 Behavioral Risk Factor Surveillance System Obesity / Weight Status\n",
       "  Topic                  \n",
       "1 Obesity / Weight Status\n",
       "2 Obesity / Weight Status\n",
       "3 Obesity / Weight Status\n",
       "4 Obesity / Weight Status\n",
       "5 Obesity / Weight Status\n",
       "6 Obesity / Weight Status\n",
       "  Question                                                   Data_Value_Unit\n",
       "1 Percent of adults aged 18 years and older who have obesity NA             \n",
       "2 Percent of adults aged 18 years and older who have obesity NA             \n",
       "3 Percent of adults aged 18 years and older who have obesity NA             \n",
       "4 Percent of adults aged 18 years and older who have obesity NA             \n",
       "5 Percent of adults aged 18 years and older who have obesity NA             \n",
       "6 Percent of adults aged 18 years and older who have obesity NA             \n",
       "  Data_Value_Type ... GeoLocation                             ClassID TopicID\n",
       "1 Value           ... (32.84057112200048, -86.63186076199969) OWS     OWS1   \n",
       "2 Value           ... (32.84057112200048, -86.63186076199969) OWS     OWS1   \n",
       "3 Value           ... (32.84057112200048, -86.63186076199969) OWS     OWS1   \n",
       "4 Value           ... (32.84057112200048, -86.63186076199969) OWS     OWS1   \n",
       "5 Value           ... (32.84057112200048, -86.63186076199969) OWS     OWS1   \n",
       "6 Value           ... (32.84057112200048, -86.63186076199969) OWS     OWS1   \n",
       "  QuestionID DataValueTypeID LocationID StratificationCategory1\n",
       "1 Q036       VALUE           1          Total                  \n",
       "2 Q036       VALUE           1          Gender                 \n",
       "3 Q036       VALUE           1          Gender                 \n",
       "4 Q036       VALUE           1          Education              \n",
       "5 Q036       VALUE           1          Education              \n",
       "6 Q036       VALUE           1          Education              \n",
       "  Stratification1                  StratificationCategoryId1 StratificationID1\n",
       "1 Total                            OVR                       OVERALL          \n",
       "2 Male                             GEN                       MALE             \n",
       "3 Female                           GEN                       FEMALE           \n",
       "4 Less than high school            EDU                       EDUHS            \n",
       "5 High school graduate             EDU                       EDUHSGRAD        \n",
       "6 Some college or technical school EDU                       EDUCOTEC         "
      ]
     },
     "metadata": {},
     "output_type": "display_data"
    }
   ],
   "source": [
    "raw <- read.csv(\"Nutrition_Physical_Activity_and_Obesity_Behavioral_Risk_Factor_Surveillance_System.csv\")\n",
    "\n",
    "print(nrow(raw))\n",
    "print(ncol(raw))\n",
    "head(raw)"
   ]
  },
  {
   "cell_type": "code",
   "execution_count": 65,
   "metadata": {},
   "outputs": [
    {
     "data": {
      "text/html": [
       "<table>\n",
       "<thead><tr><th scope=col>Year</th><th scope=col>State</th><th scope=col>Topic</th><th scope=col>Question</th><th scope=col>Obesity</th><th scope=col>Category</th><th scope=col>Group</th></tr></thead>\n",
       "<tbody>\n",
       "\t<tr><td>2011                                                      </td><td>Alabama                                                   </td><td>Obesity / Weight Status                                   </td><td>Percent of adults aged 18 years and older who have obesity</td><td>32.0                                                      </td><td>Total                                                     </td><td>Total                                                     </td></tr>\n",
       "\t<tr><td>2011                                                      </td><td>Alabama                                                   </td><td>Obesity / Weight Status                                   </td><td>Percent of adults aged 18 years and older who have obesity</td><td>32.3                                                      </td><td>Gender                                                    </td><td>Male                                                      </td></tr>\n",
       "\t<tr><td>2011                                                      </td><td>Alabama                                                   </td><td>Obesity / Weight Status                                   </td><td>Percent of adults aged 18 years and older who have obesity</td><td>31.8                                                      </td><td>Gender                                                    </td><td>Female                                                    </td></tr>\n",
       "\t<tr><td>2011                                                      </td><td>Alabama                                                   </td><td>Obesity / Weight Status                                   </td><td>Percent of adults aged 18 years and older who have obesity</td><td>33.6                                                      </td><td>Education                                                 </td><td>Less than high school                                     </td></tr>\n",
       "\t<tr><td>2011                                                      </td><td>Alabama                                                   </td><td>Obesity / Weight Status                                   </td><td>Percent of adults aged 18 years and older who have obesity</td><td>32.8                                                      </td><td>Education                                                 </td><td>High school graduate                                      </td></tr>\n",
       "\t<tr><td>2011                                                      </td><td>Alabama                                                   </td><td>Obesity / Weight Status                                   </td><td>Percent of adults aged 18 years and older who have obesity</td><td>33.8                                                      </td><td>Education                                                 </td><td>Some college or technical school                          </td></tr>\n",
       "</tbody>\n",
       "</table>\n"
      ],
      "text/latex": [
       "\\begin{tabular}{r|lllllll}\n",
       " Year & State & Topic & Question & Obesity & Category & Group\\\\\n",
       "\\hline\n",
       "\t 2011                                                       & Alabama                                                    & Obesity / Weight Status                                    & Percent of adults aged 18 years and older who have obesity & 32.0                                                       & Total                                                      & Total                                                     \\\\\n",
       "\t 2011                                                       & Alabama                                                    & Obesity / Weight Status                                    & Percent of adults aged 18 years and older who have obesity & 32.3                                                       & Gender                                                     & Male                                                      \\\\\n",
       "\t 2011                                                       & Alabama                                                    & Obesity / Weight Status                                    & Percent of adults aged 18 years and older who have obesity & 31.8                                                       & Gender                                                     & Female                                                    \\\\\n",
       "\t 2011                                                       & Alabama                                                    & Obesity / Weight Status                                    & Percent of adults aged 18 years and older who have obesity & 33.6                                                       & Education                                                  & Less than high school                                     \\\\\n",
       "\t 2011                                                       & Alabama                                                    & Obesity / Weight Status                                    & Percent of adults aged 18 years and older who have obesity & 32.8                                                       & Education                                                  & High school graduate                                      \\\\\n",
       "\t 2011                                                       & Alabama                                                    & Obesity / Weight Status                                    & Percent of adults aged 18 years and older who have obesity & 33.8                                                       & Education                                                  & Some college or technical school                          \\\\\n",
       "\\end{tabular}\n"
      ],
      "text/markdown": [
       "\n",
       "Year | State | Topic | Question | Obesity | Category | Group | \n",
       "|---|---|---|---|---|---|\n",
       "| 2011                                                       | Alabama                                                    | Obesity / Weight Status                                    | Percent of adults aged 18 years and older who have obesity | 32.0                                                       | Total                                                      | Total                                                      | \n",
       "| 2011                                                       | Alabama                                                    | Obesity / Weight Status                                    | Percent of adults aged 18 years and older who have obesity | 32.3                                                       | Gender                                                     | Male                                                       | \n",
       "| 2011                                                       | Alabama                                                    | Obesity / Weight Status                                    | Percent of adults aged 18 years and older who have obesity | 31.8                                                       | Gender                                                     | Female                                                     | \n",
       "| 2011                                                       | Alabama                                                    | Obesity / Weight Status                                    | Percent of adults aged 18 years and older who have obesity | 33.6                                                       | Education                                                  | Less than high school                                      | \n",
       "| 2011                                                       | Alabama                                                    | Obesity / Weight Status                                    | Percent of adults aged 18 years and older who have obesity | 32.8                                                       | Education                                                  | High school graduate                                       | \n",
       "| 2011                                                       | Alabama                                                    | Obesity / Weight Status                                    | Percent of adults aged 18 years and older who have obesity | 33.8                                                       | Education                                                  | Some college or technical school                           | \n",
       "\n",
       "\n"
      ],
      "text/plain": [
       "  Year State   Topic                  \n",
       "1 2011 Alabama Obesity / Weight Status\n",
       "2 2011 Alabama Obesity / Weight Status\n",
       "3 2011 Alabama Obesity / Weight Status\n",
       "4 2011 Alabama Obesity / Weight Status\n",
       "5 2011 Alabama Obesity / Weight Status\n",
       "6 2011 Alabama Obesity / Weight Status\n",
       "  Question                                                   Obesity Category \n",
       "1 Percent of adults aged 18 years and older who have obesity 32.0    Total    \n",
       "2 Percent of adults aged 18 years and older who have obesity 32.3    Gender   \n",
       "3 Percent of adults aged 18 years and older who have obesity 31.8    Gender   \n",
       "4 Percent of adults aged 18 years and older who have obesity 33.6    Education\n",
       "5 Percent of adults aged 18 years and older who have obesity 32.8    Education\n",
       "6 Percent of adults aged 18 years and older who have obesity 33.8    Education\n",
       "  Group                           \n",
       "1 Total                           \n",
       "2 Male                            \n",
       "3 Female                          \n",
       "4 Less than high school           \n",
       "5 High school graduate            \n",
       "6 Some college or technical school"
      ]
     },
     "metadata": {},
     "output_type": "display_data"
    }
   ],
   "source": [
    "clean <- subset(raw, select = c(YearStart, LocationDesc, Topic, Question, Data_Value, StratificationCategory1, Stratification1))\n",
    "clean = rename(clean, Year = YearStart, State = LocationDesc, Obesity = Data_Value, Category = StratificationCategory1, Group = Stratification1)\n",
    "\n",
    "head(clean)"
   ]
  },
  {
   "cell_type": "code",
   "execution_count": 66,
   "metadata": {},
   "outputs": [
    {
     "data": {
      "text/html": [
       "8596"
      ],
      "text/latex": [
       "8596"
      ],
      "text/markdown": [
       "8596"
      ],
      "text/plain": [
       "[1] 8596"
      ]
     },
     "metadata": {},
     "output_type": "display_data"
    },
    {
     "data": {
      "text/html": [
       "<table>\n",
       "<thead><tr><th scope=col>Year</th><th scope=col>State</th><th scope=col>Topic</th><th scope=col>Question</th><th scope=col>Obesity</th><th scope=col>Category</th><th scope=col>Group</th></tr></thead>\n",
       "<tbody>\n",
       "\t<tr><td>2011                                                      </td><td>Alabama                                                   </td><td>Obesity / Weight Status                                   </td><td>Percent of adults aged 18 years and older who have obesity</td><td>32.0                                                      </td><td>Total                                                     </td><td>Total                                                     </td></tr>\n",
       "\t<tr><td>2011                                                      </td><td>Alabama                                                   </td><td>Obesity / Weight Status                                   </td><td>Percent of adults aged 18 years and older who have obesity</td><td>32.3                                                      </td><td>Gender                                                    </td><td>Male                                                      </td></tr>\n",
       "\t<tr><td>2011                                                      </td><td>Alabama                                                   </td><td>Obesity / Weight Status                                   </td><td>Percent of adults aged 18 years and older who have obesity</td><td>31.8                                                      </td><td>Gender                                                    </td><td>Female                                                    </td></tr>\n",
       "\t<tr><td>2011                                                      </td><td>Alabama                                                   </td><td>Obesity / Weight Status                                   </td><td>Percent of adults aged 18 years and older who have obesity</td><td>33.6                                                      </td><td>Education                                                 </td><td>Less than high school                                     </td></tr>\n",
       "\t<tr><td>2011                                                      </td><td>Alabama                                                   </td><td>Obesity / Weight Status                                   </td><td>Percent of adults aged 18 years and older who have obesity</td><td>32.8                                                      </td><td>Education                                                 </td><td>High school graduate                                      </td></tr>\n",
       "\t<tr><td>2011                                                      </td><td>Alabama                                                   </td><td>Obesity / Weight Status                                   </td><td>Percent of adults aged 18 years and older who have obesity</td><td>33.8                                                      </td><td>Education                                                 </td><td>Some college or technical school                          </td></tr>\n",
       "</tbody>\n",
       "</table>\n"
      ],
      "text/latex": [
       "\\begin{tabular}{r|lllllll}\n",
       " Year & State & Topic & Question & Obesity & Category & Group\\\\\n",
       "\\hline\n",
       "\t 2011                                                       & Alabama                                                    & Obesity / Weight Status                                    & Percent of adults aged 18 years and older who have obesity & 32.0                                                       & Total                                                      & Total                                                     \\\\\n",
       "\t 2011                                                       & Alabama                                                    & Obesity / Weight Status                                    & Percent of adults aged 18 years and older who have obesity & 32.3                                                       & Gender                                                     & Male                                                      \\\\\n",
       "\t 2011                                                       & Alabama                                                    & Obesity / Weight Status                                    & Percent of adults aged 18 years and older who have obesity & 31.8                                                       & Gender                                                     & Female                                                    \\\\\n",
       "\t 2011                                                       & Alabama                                                    & Obesity / Weight Status                                    & Percent of adults aged 18 years and older who have obesity & 33.6                                                       & Education                                                  & Less than high school                                     \\\\\n",
       "\t 2011                                                       & Alabama                                                    & Obesity / Weight Status                                    & Percent of adults aged 18 years and older who have obesity & 32.8                                                       & Education                                                  & High school graduate                                      \\\\\n",
       "\t 2011                                                       & Alabama                                                    & Obesity / Weight Status                                    & Percent of adults aged 18 years and older who have obesity & 33.8                                                       & Education                                                  & Some college or technical school                          \\\\\n",
       "\\end{tabular}\n"
      ],
      "text/markdown": [
       "\n",
       "Year | State | Topic | Question | Obesity | Category | Group | \n",
       "|---|---|---|---|---|---|\n",
       "| 2011                                                       | Alabama                                                    | Obesity / Weight Status                                    | Percent of adults aged 18 years and older who have obesity | 32.0                                                       | Total                                                      | Total                                                      | \n",
       "| 2011                                                       | Alabama                                                    | Obesity / Weight Status                                    | Percent of adults aged 18 years and older who have obesity | 32.3                                                       | Gender                                                     | Male                                                       | \n",
       "| 2011                                                       | Alabama                                                    | Obesity / Weight Status                                    | Percent of adults aged 18 years and older who have obesity | 31.8                                                       | Gender                                                     | Female                                                     | \n",
       "| 2011                                                       | Alabama                                                    | Obesity / Weight Status                                    | Percent of adults aged 18 years and older who have obesity | 33.6                                                       | Education                                                  | Less than high school                                      | \n",
       "| 2011                                                       | Alabama                                                    | Obesity / Weight Status                                    | Percent of adults aged 18 years and older who have obesity | 32.8                                                       | Education                                                  | High school graduate                                       | \n",
       "| 2011                                                       | Alabama                                                    | Obesity / Weight Status                                    | Percent of adults aged 18 years and older who have obesity | 33.8                                                       | Education                                                  | Some college or technical school                           | \n",
       "\n",
       "\n"
      ],
      "text/plain": [
       "  Year State   Topic                  \n",
       "1 2011 Alabama Obesity / Weight Status\n",
       "2 2011 Alabama Obesity / Weight Status\n",
       "3 2011 Alabama Obesity / Weight Status\n",
       "4 2011 Alabama Obesity / Weight Status\n",
       "5 2011 Alabama Obesity / Weight Status\n",
       "6 2011 Alabama Obesity / Weight Status\n",
       "  Question                                                   Obesity Category \n",
       "1 Percent of adults aged 18 years and older who have obesity 32.0    Total    \n",
       "2 Percent of adults aged 18 years and older who have obesity 32.3    Gender   \n",
       "3 Percent of adults aged 18 years and older who have obesity 31.8    Gender   \n",
       "4 Percent of adults aged 18 years and older who have obesity 33.6    Education\n",
       "5 Percent of adults aged 18 years and older who have obesity 32.8    Education\n",
       "6 Percent of adults aged 18 years and older who have obesity 33.8    Education\n",
       "  Group                           \n",
       "1 Total                           \n",
       "2 Male                            \n",
       "3 Female                          \n",
       "4 Less than high school           \n",
       "5 High school graduate            \n",
       "6 Some college or technical school"
      ]
     },
     "metadata": {},
     "output_type": "display_data"
    }
   ],
   "source": [
    "obesity <- filter(clean, Question == \"Percent of adults aged 18 years and older who have obesity\")\n",
    "obesity <- filter(obesity, State != \"National\" & State != \"Guam\" & State != \"Puerto Rico\")\n",
    "\n",
    "nrow(obesity)\n",
    "head(obesity)"
   ]
  },
  {
   "cell_type": "markdown",
   "metadata": {},
   "source": [
    "## Map By States"
   ]
  },
  {
   "cell_type": "code",
   "execution_count": 67,
   "metadata": {},
   "outputs": [
    {
     "data": {
      "text/html": [
       "<table>\n",
       "<thead><tr><th scope=col>Year</th><th scope=col>State</th><th scope=col>Topic</th><th scope=col>Question</th><th scope=col>Obesity</th><th scope=col>Category</th><th scope=col>Group</th></tr></thead>\n",
       "<tbody>\n",
       "\t<tr><td>2011                                                      </td><td>Alabama                                                   </td><td>Obesity / Weight Status                                   </td><td>Percent of adults aged 18 years and older who have obesity</td><td>32.0                                                      </td><td>Total                                                     </td><td>Total                                                     </td></tr>\n",
       "\t<tr><td>2012                                                      </td><td>Alabama                                                   </td><td>Obesity / Weight Status                                   </td><td>Percent of adults aged 18 years and older who have obesity</td><td>33.0                                                      </td><td>Total                                                     </td><td>Total                                                     </td></tr>\n",
       "\t<tr><td>2013                                                      </td><td>Alabama                                                   </td><td>Obesity / Weight Status                                   </td><td>Percent of adults aged 18 years and older who have obesity</td><td>32.4                                                      </td><td>Total                                                     </td><td>Total                                                     </td></tr>\n",
       "\t<tr><td>2014                                                      </td><td>Alabama                                                   </td><td>Obesity / Weight Status                                   </td><td>Percent of adults aged 18 years and older who have obesity</td><td>33.5                                                      </td><td>Total                                                     </td><td>Total                                                     </td></tr>\n",
       "\t<tr><td>2011                                                      </td><td>Alaska                                                    </td><td>Obesity / Weight Status                                   </td><td>Percent of adults aged 18 years and older who have obesity</td><td>27.4                                                      </td><td>Total                                                     </td><td>Total                                                     </td></tr>\n",
       "\t<tr><td>2012                                                      </td><td>Alaska                                                    </td><td>Obesity / Weight Status                                   </td><td>Percent of adults aged 18 years and older who have obesity</td><td>25.7                                                      </td><td>Total                                                     </td><td>Total                                                     </td></tr>\n",
       "\t<tr><td>2013                                                      </td><td>Alaska                                                    </td><td>Obesity / Weight Status                                   </td><td>Percent of adults aged 18 years and older who have obesity</td><td>28.4                                                      </td><td>Total                                                     </td><td>Total                                                     </td></tr>\n",
       "\t<tr><td>2014                                                      </td><td>Alaska                                                    </td><td>Obesity / Weight Status                                   </td><td>Percent of adults aged 18 years and older who have obesity</td><td>29.7                                                      </td><td>Total                                                     </td><td>Total                                                     </td></tr>\n",
       "\t<tr><td>2011                                                      </td><td>Arizona                                                   </td><td>Obesity / Weight Status                                   </td><td>Percent of adults aged 18 years and older who have obesity</td><td>25.1                                                      </td><td>Total                                                     </td><td>Total                                                     </td></tr>\n",
       "\t<tr><td>2012                                                      </td><td>Arizona                                                   </td><td>Obesity / Weight Status                                   </td><td>Percent of adults aged 18 years and older who have obesity</td><td>26.0                                                      </td><td>Total                                                     </td><td>Total                                                     </td></tr>\n",
       "</tbody>\n",
       "</table>\n"
      ],
      "text/latex": [
       "\\begin{tabular}{r|lllllll}\n",
       " Year & State & Topic & Question & Obesity & Category & Group\\\\\n",
       "\\hline\n",
       "\t 2011                                                       & Alabama                                                    & Obesity / Weight Status                                    & Percent of adults aged 18 years and older who have obesity & 32.0                                                       & Total                                                      & Total                                                     \\\\\n",
       "\t 2012                                                       & Alabama                                                    & Obesity / Weight Status                                    & Percent of adults aged 18 years and older who have obesity & 33.0                                                       & Total                                                      & Total                                                     \\\\\n",
       "\t 2013                                                       & Alabama                                                    & Obesity / Weight Status                                    & Percent of adults aged 18 years and older who have obesity & 32.4                                                       & Total                                                      & Total                                                     \\\\\n",
       "\t 2014                                                       & Alabama                                                    & Obesity / Weight Status                                    & Percent of adults aged 18 years and older who have obesity & 33.5                                                       & Total                                                      & Total                                                     \\\\\n",
       "\t 2011                                                       & Alaska                                                     & Obesity / Weight Status                                    & Percent of adults aged 18 years and older who have obesity & 27.4                                                       & Total                                                      & Total                                                     \\\\\n",
       "\t 2012                                                       & Alaska                                                     & Obesity / Weight Status                                    & Percent of adults aged 18 years and older who have obesity & 25.7                                                       & Total                                                      & Total                                                     \\\\\n",
       "\t 2013                                                       & Alaska                                                     & Obesity / Weight Status                                    & Percent of adults aged 18 years and older who have obesity & 28.4                                                       & Total                                                      & Total                                                     \\\\\n",
       "\t 2014                                                       & Alaska                                                     & Obesity / Weight Status                                    & Percent of adults aged 18 years and older who have obesity & 29.7                                                       & Total                                                      & Total                                                     \\\\\n",
       "\t 2011                                                       & Arizona                                                    & Obesity / Weight Status                                    & Percent of adults aged 18 years and older who have obesity & 25.1                                                       & Total                                                      & Total                                                     \\\\\n",
       "\t 2012                                                       & Arizona                                                    & Obesity / Weight Status                                    & Percent of adults aged 18 years and older who have obesity & 26.0                                                       & Total                                                      & Total                                                     \\\\\n",
       "\\end{tabular}\n"
      ],
      "text/markdown": [
       "\n",
       "Year | State | Topic | Question | Obesity | Category | Group | \n",
       "|---|---|---|---|---|---|---|---|---|---|\n",
       "| 2011                                                       | Alabama                                                    | Obesity / Weight Status                                    | Percent of adults aged 18 years and older who have obesity | 32.0                                                       | Total                                                      | Total                                                      | \n",
       "| 2012                                                       | Alabama                                                    | Obesity / Weight Status                                    | Percent of adults aged 18 years and older who have obesity | 33.0                                                       | Total                                                      | Total                                                      | \n",
       "| 2013                                                       | Alabama                                                    | Obesity / Weight Status                                    | Percent of adults aged 18 years and older who have obesity | 32.4                                                       | Total                                                      | Total                                                      | \n",
       "| 2014                                                       | Alabama                                                    | Obesity / Weight Status                                    | Percent of adults aged 18 years and older who have obesity | 33.5                                                       | Total                                                      | Total                                                      | \n",
       "| 2011                                                       | Alaska                                                     | Obesity / Weight Status                                    | Percent of adults aged 18 years and older who have obesity | 27.4                                                       | Total                                                      | Total                                                      | \n",
       "| 2012                                                       | Alaska                                                     | Obesity / Weight Status                                    | Percent of adults aged 18 years and older who have obesity | 25.7                                                       | Total                                                      | Total                                                      | \n",
       "| 2013                                                       | Alaska                                                     | Obesity / Weight Status                                    | Percent of adults aged 18 years and older who have obesity | 28.4                                                       | Total                                                      | Total                                                      | \n",
       "| 2014                                                       | Alaska                                                     | Obesity / Weight Status                                    | Percent of adults aged 18 years and older who have obesity | 29.7                                                       | Total                                                      | Total                                                      | \n",
       "| 2011                                                       | Arizona                                                    | Obesity / Weight Status                                    | Percent of adults aged 18 years and older who have obesity | 25.1                                                       | Total                                                      | Total                                                      | \n",
       "| 2012                                                       | Arizona                                                    | Obesity / Weight Status                                    | Percent of adults aged 18 years and older who have obesity | 26.0                                                       | Total                                                      | Total                                                      | \n",
       "\n",
       "\n"
      ],
      "text/plain": [
       "   Year State   Topic                  \n",
       "1  2011 Alabama Obesity / Weight Status\n",
       "2  2012 Alabama Obesity / Weight Status\n",
       "3  2013 Alabama Obesity / Weight Status\n",
       "4  2014 Alabama Obesity / Weight Status\n",
       "5  2011 Alaska  Obesity / Weight Status\n",
       "6  2012 Alaska  Obesity / Weight Status\n",
       "7  2013 Alaska  Obesity / Weight Status\n",
       "8  2014 Alaska  Obesity / Weight Status\n",
       "9  2011 Arizona Obesity / Weight Status\n",
       "10 2012 Arizona Obesity / Weight Status\n",
       "   Question                                                   Obesity Category\n",
       "1  Percent of adults aged 18 years and older who have obesity 32.0    Total   \n",
       "2  Percent of adults aged 18 years and older who have obesity 33.0    Total   \n",
       "3  Percent of adults aged 18 years and older who have obesity 32.4    Total   \n",
       "4  Percent of adults aged 18 years and older who have obesity 33.5    Total   \n",
       "5  Percent of adults aged 18 years and older who have obesity 27.4    Total   \n",
       "6  Percent of adults aged 18 years and older who have obesity 25.7    Total   \n",
       "7  Percent of adults aged 18 years and older who have obesity 28.4    Total   \n",
       "8  Percent of adults aged 18 years and older who have obesity 29.7    Total   \n",
       "9  Percent of adults aged 18 years and older who have obesity 25.1    Total   \n",
       "10 Percent of adults aged 18 years and older who have obesity 26.0    Total   \n",
       "   Group\n",
       "1  Total\n",
       "2  Total\n",
       "3  Total\n",
       "4  Total\n",
       "5  Total\n",
       "6  Total\n",
       "7  Total\n",
       "8  Total\n",
       "9  Total\n",
       "10 Total"
      ]
     },
     "metadata": {},
     "output_type": "display_data"
    }
   ],
   "source": [
    "state <- filter(obesity, Category == \"Total\")\n",
    "head(state, 10)"
   ]
  },
  {
   "cell_type": "code",
   "execution_count": null,
   "metadata": {},
   "outputs": [],
   "source": []
  },
  {
   "cell_type": "markdown",
   "metadata": {},
   "source": [
    "##  Gender"
   ]
  },
  {
   "cell_type": "code",
   "execution_count": 62,
   "metadata": {},
   "outputs": [
    {
     "data": {
      "text/html": [
       "<table>\n",
       "<thead><tr><th scope=col>Year</th><th scope=col>Group</th><th scope=col>Obesity_Percantage</th></tr></thead>\n",
       "<tbody>\n",
       "\t<tr><td>2011    </td><td>Female  </td><td>27.18824</td></tr>\n",
       "\t<tr><td>2011    </td><td>Male    </td><td>27.97451</td></tr>\n",
       "\t<tr><td>2012    </td><td>Female  </td><td>27.65686</td></tr>\n",
       "\t<tr><td>2012    </td><td>Male    </td><td>28.20392</td></tr>\n",
       "\t<tr><td>2013    </td><td>Female  </td><td>28.39216</td></tr>\n",
       "\t<tr><td>2013    </td><td>Male    </td><td>28.89216</td></tr>\n",
       "\t<tr><td>2014    </td><td>Female  </td><td>29.00784</td></tr>\n",
       "\t<tr><td>2014    </td><td>Male    </td><td>29.41961</td></tr>\n",
       "</tbody>\n",
       "</table>\n"
      ],
      "text/latex": [
       "\\begin{tabular}{r|lll}\n",
       " Year & Group & Obesity\\_Percantage\\\\\n",
       "\\hline\n",
       "\t 2011     & Female   & 27.18824\\\\\n",
       "\t 2011     & Male     & 27.97451\\\\\n",
       "\t 2012     & Female   & 27.65686\\\\\n",
       "\t 2012     & Male     & 28.20392\\\\\n",
       "\t 2013     & Female   & 28.39216\\\\\n",
       "\t 2013     & Male     & 28.89216\\\\\n",
       "\t 2014     & Female   & 29.00784\\\\\n",
       "\t 2014     & Male     & 29.41961\\\\\n",
       "\\end{tabular}\n"
      ],
      "text/markdown": [
       "\n",
       "Year | Group | Obesity_Percantage | \n",
       "|---|---|---|---|---|---|---|---|\n",
       "| 2011     | Female   | 27.18824 | \n",
       "| 2011     | Male     | 27.97451 | \n",
       "| 2012     | Female   | 27.65686 | \n",
       "| 2012     | Male     | 28.20392 | \n",
       "| 2013     | Female   | 28.39216 | \n",
       "| 2013     | Male     | 28.89216 | \n",
       "| 2014     | Female   | 29.00784 | \n",
       "| 2014     | Male     | 29.41961 | \n",
       "\n",
       "\n"
      ],
      "text/plain": [
       "  Year Group  Obesity_Percantage\n",
       "1 2011 Female 27.18824          \n",
       "2 2011 Male   27.97451          \n",
       "3 2012 Female 27.65686          \n",
       "4 2012 Male   28.20392          \n",
       "5 2013 Female 28.39216          \n",
       "6 2013 Male   28.89216          \n",
       "7 2014 Female 29.00784          \n",
       "8 2014 Male   29.41961          "
      ]
     },
     "metadata": {},
     "output_type": "display_data"
    }
   ],
   "source": [
    "gender <- filter(obesity, Category == \"Gender\") %>% group_by(Year, Group) %>%\n",
    "    summarize(Obesity_Percantage = mean(Obesity))\n",
    "head(gender, 8)"
   ]
  },
  {
   "cell_type": "code",
   "execution_count": 77,
   "metadata": {
    "scrolled": true
   },
   "outputs": [
    {
     "data": {},
     "metadata": {},
     "output_type": "display_data"
    },
    {
     "ename": "ERROR",
     "evalue": "Error in png(tf, width, height, \"in\", pointsize, bg, res, antialias = antialias): unable to start png() device\n",
     "output_type": "error",
     "traceback": [
      "Error in png(tf, width, height, \"in\", pointsize, bg, res, antialias = antialias): unable to start png() device\nTraceback:\n"
     ]
    },
    {
     "data": {
      "text/plain": [
       "plot without title"
      ]
     },
     "metadata": {},
     "output_type": "display_data"
    }
   ],
   "source": [
    "ggplot(gender, aes(x=Year, Y=Obesity, group=1)) + \n",
    "    labs(x=\"Year\", y=\"Obesity Rate\") + facet_wrap(~Group)"
   ]
  },
  {
   "cell_type": "markdown",
   "metadata": {},
   "source": [
    "## Age Group "
   ]
  },
  {
   "cell_type": "code",
   "execution_count": 70,
   "metadata": {},
   "outputs": [
    {
     "data": {
      "text/html": [
       "<table>\n",
       "<thead><tr><th scope=col>Year</th><th scope=col>Group</th><th scope=col>Obesity_Percentage</th></tr></thead>\n",
       "<tbody>\n",
       "\t<tr><td>2011       </td><td>18 - 24    </td><td>15.43529   </td></tr>\n",
       "\t<tr><td>2011       </td><td>25 - 34    </td><td>26.17059   </td></tr>\n",
       "\t<tr><td>2011       </td><td>35 - 44    </td><td>30.73725   </td></tr>\n",
       "\t<tr><td>2011       </td><td>45 - 54    </td><td>32.54706   </td></tr>\n",
       "\t<tr><td>2011       </td><td>55 - 64    </td><td>32.90000   </td></tr>\n",
       "\t<tr><td>2011       </td><td>65 or older</td><td>25.09608   </td></tr>\n",
       "</tbody>\n",
       "</table>\n"
      ],
      "text/latex": [
       "\\begin{tabular}{r|lll}\n",
       " Year & Group & Obesity\\_Percentage\\\\\n",
       "\\hline\n",
       "\t 2011        & 18 - 24     & 15.43529   \\\\\n",
       "\t 2011        & 25 - 34     & 26.17059   \\\\\n",
       "\t 2011        & 35 - 44     & 30.73725   \\\\\n",
       "\t 2011        & 45 - 54     & 32.54706   \\\\\n",
       "\t 2011        & 55 - 64     & 32.90000   \\\\\n",
       "\t 2011        & 65 or older & 25.09608   \\\\\n",
       "\\end{tabular}\n"
      ],
      "text/markdown": [
       "\n",
       "Year | Group | Obesity_Percentage | \n",
       "|---|---|---|---|---|---|\n",
       "| 2011        | 18 - 24     | 15.43529    | \n",
       "| 2011        | 25 - 34     | 26.17059    | \n",
       "| 2011        | 35 - 44     | 30.73725    | \n",
       "| 2011        | 45 - 54     | 32.54706    | \n",
       "| 2011        | 55 - 64     | 32.90000    | \n",
       "| 2011        | 65 or older | 25.09608    | \n",
       "\n",
       "\n"
      ],
      "text/plain": [
       "  Year Group       Obesity_Percentage\n",
       "1 2011 18 - 24     15.43529          \n",
       "2 2011 25 - 34     26.17059          \n",
       "3 2011 35 - 44     30.73725          \n",
       "4 2011 45 - 54     32.54706          \n",
       "5 2011 55 - 64     32.90000          \n",
       "6 2011 65 or older 25.09608          "
      ]
     },
     "metadata": {},
     "output_type": "display_data"
    }
   ],
   "source": [
    "age <- filter(obesity, Category == \"Age (years)\") %>% \n",
    "    group_by(Year, Group) %>% summarize(Obesity_Percentage = mean(Obesity))\n",
    "\n",
    "head(age)"
   ]
  },
  {
   "cell_type": "code",
   "execution_count": 68,
   "metadata": {
    "scrolled": true
   },
   "outputs": [
    {
     "data": {},
     "metadata": {},
     "output_type": "display_data"
    },
    {
     "data": {
      "text/plain": [
       "geom_line: na.rm = FALSE\n",
       "stat_identity: na.rm = FALSE\n",
       "position_identity "
      ]
     },
     "metadata": {},
     "output_type": "display_data"
    },
    {
     "ename": "ERROR",
     "evalue": "Error in png(tf, width, height, \"in\", pointsize, bg, res, antialias = antialias): unable to start png() device\n",
     "output_type": "error",
     "traceback": [
      "Error in png(tf, width, height, \"in\", pointsize, bg, res, antialias = antialias): unable to start png() device\nTraceback:\n"
     ]
    },
    {
     "data": {
      "text/plain": [
       "plot without title"
      ]
     },
     "metadata": {},
     "output_type": "display_data"
    }
   ],
   "source": [
    "#year <- melt(age_trend, id = \"Year\")\n",
    "\n",
    "ggplot(age_trend, aes(x=Year, colour=Group)) + \n",
    "        geom_point(aes(y=Obesity))\n",
    "        geom_line()"
   ]
  },
  {
   "cell_type": "markdown",
   "metadata": {},
   "source": [
    "## Level of Education "
   ]
  },
  {
   "cell_type": "code",
   "execution_count": 72,
   "metadata": {},
   "outputs": [
    {
     "data": {
      "text/html": [
       "<table>\n",
       "<thead><tr><th scope=col>Year</th><th scope=col>Group</th><th scope=col>Obesity_Percentage</th></tr></thead>\n",
       "<tbody>\n",
       "\t<tr><td>2011                            </td><td>College graduate                </td><td>21.63529                        </td></tr>\n",
       "\t<tr><td>2011                            </td><td>High school graduate            </td><td>29.79216                        </td></tr>\n",
       "\t<tr><td>2011                            </td><td>Less than high school           </td><td>31.59804                        </td></tr>\n",
       "\t<tr><td>2011                            </td><td>Some college or technical school</td><td>28.86667                        </td></tr>\n",
       "\t<tr><td>2012                            </td><td>College graduate                </td><td>22.09412                        </td></tr>\n",
       "\t<tr><td>2012                            </td><td>High school graduate            </td><td>30.01569                        </td></tr>\n",
       "</tbody>\n",
       "</table>\n"
      ],
      "text/latex": [
       "\\begin{tabular}{r|lll}\n",
       " Year & Group & Obesity\\_Percentage\\\\\n",
       "\\hline\n",
       "\t 2011                             & College graduate                 & 21.63529                        \\\\\n",
       "\t 2011                             & High school graduate             & 29.79216                        \\\\\n",
       "\t 2011                             & Less than high school            & 31.59804                        \\\\\n",
       "\t 2011                             & Some college or technical school & 28.86667                        \\\\\n",
       "\t 2012                             & College graduate                 & 22.09412                        \\\\\n",
       "\t 2012                             & High school graduate             & 30.01569                        \\\\\n",
       "\\end{tabular}\n"
      ],
      "text/markdown": [
       "\n",
       "Year | Group | Obesity_Percentage | \n",
       "|---|---|---|---|---|---|\n",
       "| 2011                             | College graduate                 | 21.63529                         | \n",
       "| 2011                             | High school graduate             | 29.79216                         | \n",
       "| 2011                             | Less than high school            | 31.59804                         | \n",
       "| 2011                             | Some college or technical school | 28.86667                         | \n",
       "| 2012                             | College graduate                 | 22.09412                         | \n",
       "| 2012                             | High school graduate             | 30.01569                         | \n",
       "\n",
       "\n"
      ],
      "text/plain": [
       "  Year Group                            Obesity_Percentage\n",
       "1 2011 College graduate                 21.63529          \n",
       "2 2011 High school graduate             29.79216          \n",
       "3 2011 Less than high school            31.59804          \n",
       "4 2011 Some college or technical school 28.86667          \n",
       "5 2012 College graduate                 22.09412          \n",
       "6 2012 High school graduate             30.01569          "
      ]
     },
     "metadata": {},
     "output_type": "display_data"
    }
   ],
   "source": [
    "edu <- filter(obesity, Category == \"Education\") %>% \n",
    "    group_by(Year, Group) %>% summarize(Obesity_Percentage = mean(Obesity))\n",
    "\n",
    "head(edu)"
   ]
  },
  {
   "cell_type": "markdown",
   "metadata": {},
   "source": [
    "## Level of Income"
   ]
  },
  {
   "cell_type": "code",
   "execution_count": 73,
   "metadata": {},
   "outputs": [
    {
     "data": {
      "text/html": [
       "<table>\n",
       "<thead><tr><th scope=col>Year</th><th scope=col>Group</th><th scope=col>Obesity_Percentage</th></tr></thead>\n",
       "<tbody>\n",
       "\t<tr><td>2011              </td><td>$15,000 - $24,999 </td><td>30.97059          </td></tr>\n",
       "\t<tr><td>2011              </td><td>$25,000 - $34,999 </td><td>29.51765          </td></tr>\n",
       "\t<tr><td>2011              </td><td>$35,000 - $49,999 </td><td>28.92745          </td></tr>\n",
       "\t<tr><td>2011              </td><td>$50,000 - $74,999 </td><td>28.39804          </td></tr>\n",
       "\t<tr><td>2011              </td><td>$75,000 or greater</td><td>23.76078          </td></tr>\n",
       "\t<tr><td>2011              </td><td>Data not reported </td><td>22.90784          </td></tr>\n",
       "</tbody>\n",
       "</table>\n"
      ],
      "text/latex": [
       "\\begin{tabular}{r|lll}\n",
       " Year & Group & Obesity\\_Percentage\\\\\n",
       "\\hline\n",
       "\t 2011                   & \\$15,000 - \\$24,999  & 30.97059              \\\\\n",
       "\t 2011                   & \\$25,000 - \\$34,999  & 29.51765              \\\\\n",
       "\t 2011                   & \\$35,000 - \\$49,999  & 28.92745              \\\\\n",
       "\t 2011                   & \\$50,000 - \\$74,999  & 28.39804              \\\\\n",
       "\t 2011                 & \\$75,000 or greater & 23.76078            \\\\\n",
       "\t 2011               & Data not reported  & 22.90784          \\\\\n",
       "\\end{tabular}\n"
      ],
      "text/markdown": [
       "\n",
       "Year | Group | Obesity_Percentage | \n",
       "|---|---|---|---|---|---|\n",
       "| 2011               | $15,000 - $24,999  | 30.97059           | \n",
       "| 2011               | $25,000 - $34,999  | 29.51765           | \n",
       "| 2011               | $35,000 - $49,999  | 28.92745           | \n",
       "| 2011               | $50,000 - $74,999  | 28.39804           | \n",
       "| 2011               | $75,000 or greater | 23.76078           | \n",
       "| 2011               | Data not reported  | 22.90784           | \n",
       "\n",
       "\n"
      ],
      "text/plain": [
       "  Year Group              Obesity_Percentage\n",
       "1 2011 $15,000 - $24,999  30.97059          \n",
       "2 2011 $25,000 - $34,999  29.51765          \n",
       "3 2011 $35,000 - $49,999  28.92745          \n",
       "4 2011 $50,000 - $74,999  28.39804          \n",
       "5 2011 $75,000 or greater 23.76078          \n",
       "6 2011 Data not reported  22.90784          "
      ]
     },
     "metadata": {},
     "output_type": "display_data"
    }
   ],
   "source": [
    "income <- filter(obesity, Category == \"Income\") %>% \n",
    "    group_by(Year, Group) %>% summarize(Obesity_Percentage = mean(Obesity))\n",
    "\n",
    "head(income)"
   ]
  },
  {
   "cell_type": "code",
   "execution_count": null,
   "metadata": {},
   "outputs": [],
   "source": []
  }
 ],
 "metadata": {
  "kernelspec": {
   "display_name": "R",
   "language": "R",
   "name": "ir"
  },
  "language_info": {
   "codemirror_mode": "r",
   "file_extension": ".r",
   "mimetype": "text/x-r-source",
   "name": "R",
   "pygments_lexer": "r",
   "version": "3.4.2"
  }
 },
 "nbformat": 4,
 "nbformat_minor": 2
}
