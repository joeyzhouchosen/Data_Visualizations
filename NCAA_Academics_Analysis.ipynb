{
 "cells": [
  {
   "cell_type": "markdown",
   "metadata": {},
   "source": [
    "# How Do the Athletes at University of Nebraska-Lincoln Perform Academically"
   ]
  },
  {
   "cell_type": "markdown",
   "metadata": {},
   "source": [
    "## Context"
   ]
  },
  {
   "cell_type": "markdown",
   "metadata": {},
   "source": [
    "The study was originally conducted by National Collegiate Athletic Association (NCAA) to track student-athletes' academic perfomance. The Academic Progress Rate (APR) was introduced to mearsure student-athletes' academic progress. The formula for the APR considers factors including student-athlete eligibility, retention and graduation. the NCAA recognizes the high APR scores indicate student-athletes academic sucess in the classroom, and the low APR scores raise the awareness of the poor performance at the institution. The institutions can be penalized by NCAA for consistently low APR scores.\n",
    "\n",
    "In this article, we will use the dataset provided by NCAA, and take a look at how athletes at University of Nebraska-Lincoln perform academically comparing to the overall academic scores."
   ]
  },
  {
   "cell_type": "code",
   "execution_count": 1,
   "metadata": {},
   "outputs": [
    {
     "name": "stderr",
     "output_type": "stream",
     "text": [
      "\n",
      "Attaching package: 'dplyr'\n",
      "\n",
      "The following objects are masked from 'package:stats':\n",
      "\n",
      "    filter, lag\n",
      "\n",
      "The following objects are masked from 'package:base':\n",
      "\n",
      "    intersect, setdiff, setequal, union\n",
      "\n"
     ]
    }
   ],
   "source": [
    "library(dplyr)\n",
    "library(ggplot2)\n",
    "library(reshape2)"
   ]
  },
  {
   "cell_type": "markdown",
   "metadata": {},
   "source": [
    "## Overview"
   ]
  },
  {
   "cell_type": "code",
   "execution_count": 2,
   "metadata": {},
   "outputs": [
    {
     "data": {
      "text/html": [
       "<table>\n",
       "<thead><tr><th scope=col>SCHOOL_ID</th><th scope=col>SCHOOL_NAME</th><th scope=col>SCHOOL_TYPE</th><th scope=col>ACADEMIC_YEAR</th><th scope=col>SPORT_CODE</th><th scope=col>SPORT_NAME</th><th scope=col>NCAA_DIVISION</th><th scope=col>NCAA_SUBDIVISION</th><th scope=col>NCAA_CONFERENCE</th><th scope=col>FOURYEAR_ATHLETES</th><th scope=col>...</th><th scope=col>X2006_ELIGIBILITY</th><th scope=col>X2006_RETENTION</th><th scope=col>X2005_ATHLETES</th><th scope=col>X2005_SCORE</th><th scope=col>X2005_ELIGIBILITY</th><th scope=col>X2005_RETENTION</th><th scope=col>X2004_ATHLETES</th><th scope=col>X2004_SCORE</th><th scope=col>X2004_ELIGIBILITY</th><th scope=col>X2004_RETENTION</th></tr></thead>\n",
       "<tbody>\n",
       "\t<tr><td>100654                                                     </td><td>Alabama A&amp;M University                                 </td><td>0                                                          </td><td>2014                                                       </td><td> 1                                                         </td><td><span style=white-space:pre-wrap>Baseball           </span></td><td>1                                                          </td><td>2                                                          </td><td>Southwestern Athletic Conference                           </td><td> 80                                                        </td><td>...                                                        </td><td>0.8974                                                     </td><td>0.9487                                                     </td><td>21                                                         </td><td> 917                                                       </td><td>0.8810                                                     </td><td>0.9524                                                     </td><td> 20                                                        </td><td>975                                                        </td><td><span style=white-space:pre-wrap>  0.9750</span>           </td><td><span style=white-space:pre-wrap>  0.9750</span>           </td></tr>\n",
       "\t<tr><td>100654                                                     </td><td>Alabama A&amp;M University                                 </td><td>0                                                          </td><td>2014                                                       </td><td> 4                                                         </td><td><span style=white-space:pre-wrap>Football           </span></td><td>1                                                          </td><td>2                                                          </td><td>Southwestern Athletic Conference                           </td><td>321                                                        </td><td>...                                                        </td><td>0.9111                                                     </td><td>0.9630                                                     </td><td>74                                                         </td><td> 921                                                       </td><td>0.8759                                                     </td><td>0.9655                                                     </td><td> 74                                                        </td><td>871                                                        </td><td><span style=white-space:pre-wrap>  0.8601</span>           </td><td><span style=white-space:pre-wrap>  0.8811</span>           </td></tr>\n",
       "\t<tr><td>100654                                                     </td><td>Alabama A&amp;M University                                 </td><td>0                                                          </td><td>2014                                                       </td><td> 2                                                         </td><td><span style=white-space:pre-wrap>Men's Basketball   </span></td><td>1                                                          </td><td>2                                                          </td><td>Southwestern Athletic Conference                           </td><td> 43                                                        </td><td>...                                                        </td><td>0.9615                                                     </td><td>0.8462                                                     </td><td>11                                                         </td><td> 909                                                       </td><td>0.9091                                                     </td><td>0.9091                                                     </td><td> 10                                                        </td><td>950                                                        </td><td><span style=white-space:pre-wrap>  0.9500</span>           </td><td><span style=white-space:pre-wrap>  0.9500</span>           </td></tr>\n",
       "\t<tr><td>100654                                                     </td><td>Alabama A&amp;M University                                 </td><td>0                                                          </td><td>2014                                                       </td><td> 6                                                         </td><td><span style=white-space:pre-wrap>Men's Golf         </span></td><td>1                                                          </td><td>2                                                          </td><td>Southwestern Athletic Conference                           </td><td> 22                                                        </td><td>...                                                        </td><td>0.8889                                                     </td><td>0.8889                                                     </td><td> 7                                                         </td><td> 929                                                       </td><td>0.8571                                                     </td><td>1.0000                                                     </td><td>-99                                                        </td><td>-99                                                        </td><td>-99.0000                                                   </td><td>-99.0000                                                   </td></tr>\n",
       "\t<tr><td>100654                                                     </td><td>Alabama A&amp;M University                                 </td><td>0                                                          </td><td>2014                                                       </td><td>13                                                         </td><td><span style=white-space:pre-wrap>Men's Tennis       </span></td><td>1                                                          </td><td>2                                                          </td><td>Southwestern Athletic Conference                           </td><td> 12                                                        </td><td>...                                                        </td><td>0.8889                                                     </td><td>0.8889                                                     </td><td> 4                                                         </td><td>1000                                                       </td><td>1.0000                                                     </td><td>1.0000                                                     </td><td><span style=white-space:pre-wrap>  6</span>                </td><td>958                                                        </td><td><span style=white-space:pre-wrap>  1.0000</span>           </td><td><span style=white-space:pre-wrap>  0.9167</span>           </td></tr>\n",
       "\t<tr><td>100654                                          </td><td>Alabama A&amp;M University                      </td><td>0                                               </td><td>2014                                            </td><td>14                                              </td><td>Men's Track, Indoor                             </td><td>1                                               </td><td>2                                               </td><td>Southwestern Athletic Conference                </td><td> 62                                             </td><td>...                                             </td><td>0.8889                                          </td><td>0.9167                                          </td><td>14                                              </td><td> 926                                            </td><td>0.8519                                          </td><td>1.0000                                          </td><td> 12                                             </td><td>938                                             </td><td><span style=white-space:pre-wrap>  0.9167</span></td><td><span style=white-space:pre-wrap>  0.9583</span></td></tr>\n",
       "</tbody>\n",
       "</table>\n"
      ],
      "text/latex": [
       "\\begin{tabular}{r|lllllllllllllllllllllllllllllllllllllllllllllllllllllllll}\n",
       " SCHOOL\\_ID & SCHOOL\\_NAME & SCHOOL\\_TYPE & ACADEMIC\\_YEAR & SPORT\\_CODE & SPORT\\_NAME & NCAA\\_DIVISION & NCAA\\_SUBDIVISION & NCAA\\_CONFERENCE & FOURYEAR\\_ATHLETES & ... & X2006\\_ELIGIBILITY & X2006\\_RETENTION & X2005\\_ATHLETES & X2005\\_SCORE & X2005\\_ELIGIBILITY & X2005\\_RETENTION & X2004\\_ATHLETES & X2004\\_SCORE & X2004\\_ELIGIBILITY & X2004\\_RETENTION\\\\\n",
       "\\hline\n",
       "\t 100654                           & Alabama A\\&M University         & 0                                & 2014                             &  1                               & Baseball                         & 1                                & 2                                & Southwestern Athletic Conference &  80                              & ...                              & 0.8974                           & 0.9487                           & 21                               &  917                             & 0.8810                           & 0.9524                           &  20                              & 975                              &   0.9750                         &   0.9750                        \\\\\n",
       "\t 100654                           & Alabama A\\&M University         & 0                                & 2014                             &  4                               & Football                         & 1                                & 2                                & Southwestern Athletic Conference & 321                              & ...                              & 0.9111                           & 0.9630                           & 74                               &  921                             & 0.8759                           & 0.9655                           &  74                              & 871                              &   0.8601                         &   0.8811                        \\\\\n",
       "\t 100654                           & Alabama A\\&M University         & 0                                & 2014                             &  2                               & Men's Basketball                 & 1                                & 2                                & Southwestern Athletic Conference &  43                              & ...                              & 0.9615                           & 0.8462                           & 11                               &  909                             & 0.9091                           & 0.9091                           &  10                              & 950                              &   0.9500                         &   0.9500                        \\\\\n",
       "\t 100654                           & Alabama A\\&M University         & 0                                & 2014                             &  6                               & Men's Golf                       & 1                                & 2                                & Southwestern Athletic Conference &  22                              & ...                              & 0.8889                           & 0.8889                           &  7                               &  929                             & 0.8571                           & 1.0000                           & -99                              & -99                              & -99.0000                         & -99.0000                        \\\\\n",
       "\t 100654                           & Alabama A\\&M University         & 0                                & 2014                             & 13                               & Men's Tennis                     & 1                                & 2                                & Southwestern Athletic Conference &  12                              & ...                              & 0.8889                           & 0.8889                           &  4                               & 1000                             & 1.0000                           & 1.0000                           &   6                              & 958                              &   1.0000                         &   0.9167                        \\\\\n",
       "\t 100654                           & Alabama A\\&M University         & 0                                & 2014                             & 14                               & Men's Track, Indoor              & 1                                & 2                                & Southwestern Athletic Conference &  62                              & ...                              & 0.8889                           & 0.9167                           & 14                               &  926                             & 0.8519                           & 1.0000                           &  12                              & 938                              &   0.9167                         &   0.9583                        \\\\\n",
       "\\end{tabular}\n"
      ],
      "text/markdown": [
       "\n",
       "SCHOOL_ID | SCHOOL_NAME | SCHOOL_TYPE | ACADEMIC_YEAR | SPORT_CODE | SPORT_NAME | NCAA_DIVISION | NCAA_SUBDIVISION | NCAA_CONFERENCE | FOURYEAR_ATHLETES | ... | X2006_ELIGIBILITY | X2006_RETENTION | X2005_ATHLETES | X2005_SCORE | X2005_ELIGIBILITY | X2005_RETENTION | X2004_ATHLETES | X2004_SCORE | X2004_ELIGIBILITY | X2004_RETENTION | \n",
       "|---|---|---|---|---|---|\n",
       "| 100654                           | Alabama A&M University           | 0                                | 2014                             |  1                               | Baseball                         | 1                                | 2                                | Southwestern Athletic Conference |  80                              | ...                              | 0.8974                           | 0.9487                           | 21                               |  917                             | 0.8810                           | 0.9524                           |  20                              | 975                              |   0.9750                         |   0.9750                         | \n",
       "| 100654                           | Alabama A&M University           | 0                                | 2014                             |  4                               | Football                         | 1                                | 2                                | Southwestern Athletic Conference | 321                              | ...                              | 0.9111                           | 0.9630                           | 74                               |  921                             | 0.8759                           | 0.9655                           |  74                              | 871                              |   0.8601                         |   0.8811                         | \n",
       "| 100654                           | Alabama A&M University           | 0                                | 2014                             |  2                               | Men's Basketball                 | 1                                | 2                                | Southwestern Athletic Conference |  43                              | ...                              | 0.9615                           | 0.8462                           | 11                               |  909                             | 0.9091                           | 0.9091                           |  10                              | 950                              |   0.9500                         |   0.9500                         | \n",
       "| 100654                           | Alabama A&M University           | 0                                | 2014                             |  6                               | Men's Golf                       | 1                                | 2                                | Southwestern Athletic Conference |  22                              | ...                              | 0.8889                           | 0.8889                           |  7                               |  929                             | 0.8571                           | 1.0000                           | -99                              | -99                              | -99.0000                         | -99.0000                         | \n",
       "| 100654                           | Alabama A&M University           | 0                                | 2014                             | 13                               | Men's Tennis                     | 1                                | 2                                | Southwestern Athletic Conference |  12                              | ...                              | 0.8889                           | 0.8889                           |  4                               | 1000                             | 1.0000                           | 1.0000                           |   6                              | 958                              |   1.0000                         |   0.9167                         | \n",
       "| 100654                           | Alabama A&M University           | 0                                | 2014                             | 14                               | Men's Track, Indoor              | 1                                | 2                                | Southwestern Athletic Conference |  62                              | ...                              | 0.8889                           | 0.9167                           | 14                               |  926                             | 0.8519                           | 1.0000                           |  12                              | 938                              |   0.9167                         |   0.9583                         | \n",
       "\n",
       "\n"
      ],
      "text/plain": [
       "  SCHOOL_ID SCHOOL_NAME            SCHOOL_TYPE ACADEMIC_YEAR SPORT_CODE\n",
       "1 100654    Alabama A&M University 0           2014           1        \n",
       "2 100654    Alabama A&M University 0           2014           4        \n",
       "3 100654    Alabama A&M University 0           2014           2        \n",
       "4 100654    Alabama A&M University 0           2014           6        \n",
       "5 100654    Alabama A&M University 0           2014          13        \n",
       "6 100654    Alabama A&M University 0           2014          14        \n",
       "  SPORT_NAME          NCAA_DIVISION NCAA_SUBDIVISION\n",
       "1 Baseball            1             2               \n",
       "2 Football            1             2               \n",
       "3 Men's Basketball    1             2               \n",
       "4 Men's Golf          1             2               \n",
       "5 Men's Tennis        1             2               \n",
       "6 Men's Track, Indoor 1             2               \n",
       "  NCAA_CONFERENCE                  FOURYEAR_ATHLETES ... X2006_ELIGIBILITY\n",
       "1 Southwestern Athletic Conference  80               ... 0.8974           \n",
       "2 Southwestern Athletic Conference 321               ... 0.9111           \n",
       "3 Southwestern Athletic Conference  43               ... 0.9615           \n",
       "4 Southwestern Athletic Conference  22               ... 0.8889           \n",
       "5 Southwestern Athletic Conference  12               ... 0.8889           \n",
       "6 Southwestern Athletic Conference  62               ... 0.8889           \n",
       "  X2006_RETENTION X2005_ATHLETES X2005_SCORE X2005_ELIGIBILITY X2005_RETENTION\n",
       "1 0.9487          21              917        0.8810            0.9524         \n",
       "2 0.9630          74              921        0.8759            0.9655         \n",
       "3 0.8462          11              909        0.9091            0.9091         \n",
       "4 0.8889           7              929        0.8571            1.0000         \n",
       "5 0.8889           4             1000        1.0000            1.0000         \n",
       "6 0.9167          14              926        0.8519            1.0000         \n",
       "  X2004_ATHLETES X2004_SCORE X2004_ELIGIBILITY X2004_RETENTION\n",
       "1  20            975           0.9750            0.9750       \n",
       "2  74            871           0.8601            0.8811       \n",
       "3  10            950           0.9500            0.9500       \n",
       "4 -99            -99         -99.0000          -99.0000       \n",
       "5   6            958           1.0000            0.9167       \n",
       "6  12            938           0.9167            0.9583       "
      ]
     },
     "metadata": {},
     "output_type": "display_data"
    }
   ],
   "source": [
    "scores <- read.csv(\"NCAA_data.csv\")\n",
    "head(scores)"
   ]
  },
  {
   "cell_type": "code",
   "execution_count": 3,
   "metadata": {},
   "outputs": [
    {
     "data": {
      "text/html": [
       "<table>\n",
       "<thead><tr><th scope=col>NCAA_DIVISION</th><th scope=col>Athletes</th><th scope=col>Scores</th><th scope=col>Eligibility</th><th scope=col>Retention</th></tr></thead>\n",
       "<tbody>\n",
       "\t<tr><td>1         </td><td>489332    </td><td>977.8612  </td><td> 0.8368549</td><td> 0.8307018</td></tr>\n",
       "\t<tr><td>2         </td><td>  5102    </td><td>964.0719  </td><td>-0.4747518</td><td>-0.4795964</td></tr>\n",
       "\t<tr><td>3         </td><td>  1648    </td><td>991.0000  </td><td> 0.9931263</td><td> 0.9864000</td></tr>\n",
       "</tbody>\n",
       "</table>\n"
      ],
      "text/latex": [
       "\\begin{tabular}{r|lllll}\n",
       " NCAA\\_DIVISION & Athletes & Scores & Eligibility & Retention\\\\\n",
       "\\hline\n",
       "\t 1          & 489332     & 977.8612   &  0.8368549 &  0.8307018\\\\\n",
       "\t 2          &   5102     & 964.0719   & -0.4747518 & -0.4795964\\\\\n",
       "\t 3          &   1648     & 991.0000   &  0.9931263 &  0.9864000\\\\\n",
       "\\end{tabular}\n"
      ],
      "text/markdown": [
       "\n",
       "NCAA_DIVISION | Athletes | Scores | Eligibility | Retention | \n",
       "|---|---|---|\n",
       "| 1          | 489332     | 977.8612   |  0.8368549 |  0.8307018 | \n",
       "| 2          |   5102     | 964.0719   | -0.4747518 | -0.4795964 | \n",
       "| 3          |   1648     | 991.0000   |  0.9931263 |  0.9864000 | \n",
       "\n",
       "\n"
      ],
      "text/plain": [
       "  NCAA_DIVISION Athletes Scores   Eligibility Retention \n",
       "1 1             489332   977.8612  0.8368549   0.8307018\n",
       "2 2               5102   964.0719 -0.4747518  -0.4795964\n",
       "3 3               1648   991.0000  0.9931263   0.9864000"
      ]
     },
     "metadata": {},
     "output_type": "display_data"
    }
   ],
   "source": [
    "divisions <- scores %>%\n",
    "    group_by(NCAA_DIVISION) %>%\n",
    "    summarise(Athletes = sum(FOURYEAR_ATHLETES), Scores = mean(FOURYEAR_SCORE),\n",
    "              Eligibility = mean(FOURYEAR_ELIGIBILITY), Retention = mean(FOURYEAR_RETENTION))\n",
    "\n",
    "divisions"
   ]
  },
  {
   "cell_type": "markdown",
   "metadata": {},
   "source": [
    "## Conference "
   ]
  },
  {
   "cell_type": "code",
   "execution_count": 4,
   "metadata": {},
   "outputs": [
    {
     "data": {
      "text/html": [
       "<table>\n",
       "<thead><tr><th scope=col>NCAA_CONFERENCE</th><th scope=col>Athletes</th><th scope=col>Scores</th><th scope=col>Eligibility</th><th scope=col>Retention</th></tr></thead>\n",
       "<tbody>\n",
       "\t<tr><td>New England Women's and Men's Athletic Conference</td><td>   62                                            </td><td>1000.0000                                        </td><td>1.0000000                                        </td><td>1.0000000                                        </td></tr>\n",
       "\t<tr><td>Southern Collegiate Athletic Conference          </td><td>  158                                            </td><td> 998.5000                                        </td><td>0.9970500                                        </td><td>0.9935500                                        </td></tr>\n",
       "\t<tr><td>Northeast-10 Conference                          </td><td>  239                                            </td><td> 996.6667                                        </td><td>0.9977000                                        </td><td>0.9954000                                        </td></tr>\n",
       "\t<tr><td>The Ivy League                                   </td><td>24480                                            </td><td> 993.1555                                        </td><td>0.9949958                                        </td><td>0.9902975                                        </td></tr>\n",
       "\t<tr><td>Liberty League                                   </td><td> 1012                                            </td><td> 990.1818                                        </td><td>0.9945455                                        </td><td>0.9851000                                        </td></tr>\n",
       "\t<tr><td>Centennial Conference                            </td><td>  274                                            </td><td> 990.0000                                        </td><td>0.9884333                                        </td><td>0.9899333                                        </td></tr>\n",
       "\t<tr><td>Big East Conference                              </td><td>10961                                            </td><td> 989.4326                                        </td><td>0.9920719                                        </td><td>0.9834725                                        </td></tr>\n",
       "\t<tr><td>Atlantic Coast Conference                        </td><td>26942                                            </td><td> 985.3567                                        </td><td>0.9874107                                        </td><td>0.9785951                                        </td></tr>\n",
       "\t<tr><td>Metro Atlantic Athletic Conference               </td><td>13039                                            </td><td> 985.2417                                        </td><td>0.9882104                                        </td><td>0.9771123                                        </td></tr>\n",
       "\t<tr><td>Empire 8                                         </td><td>  142                                            </td><td> 985.0000                                        </td><td>0.9850000                                        </td><td>0.9743000                                        </td></tr>\n",
       "\t<tr><td>Big Ten Conference                               </td><td>30453                                            </td><td> 984.9384                                        </td><td>0.9842701                                        </td><td>0.9798302                                        </td></tr>\n",
       "\t<tr><td>Colonial Athletic Association                    </td><td>13443                                            </td><td> 983.0383                                        </td><td>0.9844109                                        </td><td>0.9748962                                        </td></tr>\n",
       "\t<tr><td>America East Conference                          </td><td>11473                                            </td><td> 982.4762                                        </td><td>0.9837589                                        </td><td>0.9727946                                        </td></tr>\n",
       "\t<tr><td>West Coast Conference                            </td><td>10592                                            </td><td> 982.4072                                        </td><td>0.9845707                                        </td><td>0.9728102                                        </td></tr>\n",
       "\t<tr><td>Northeast Conference                             </td><td>12643                                            </td><td> 982.0253                                        </td><td>0.9843318                                        </td><td>0.9734864                                        </td></tr>\n",
       "\t<tr><td>Pac-12 Conference                                </td><td>21382                                            </td><td> 981.9920                                        </td><td>0.9824199                                        </td><td>0.9724131                                        </td></tr>\n",
       "\t<tr><td>Great Lakes Intercollegiate Athletic Conference  </td><td>  393                                            </td><td> 981.2500                                        </td><td>0.9801250                                        </td><td>0.9767500                                        </td></tr>\n",
       "\t<tr><td>Southeastern Conference                          </td><td>25015                                            </td><td> 981.1365                                        </td><td>0.9826834                                        </td><td>0.9738476                                        </td></tr>\n",
       "\t<tr><td>Northern Sun Intercollegiate Conference          </td><td>  769                                            </td><td> 980.7500                                        </td><td>0.9874125                                        </td><td>0.9688250                                        </td></tr>\n",
       "\t<tr><td>The Summit League                                </td><td>11114                                            </td><td> 979.8333                                        </td><td>0.9755994                                        </td><td>0.9716692                                        </td></tr>\n",
       "\t<tr><td>Mid-American Conference                          </td><td>19880                                            </td><td> 979.4860                                        </td><td>0.9788033                                        </td><td>0.9743224                                        </td></tr>\n",
       "\t<tr><td>Mountain West Conference                         </td><td>18458                                            </td><td> 977.7353                                        </td><td>0.9757206                                        </td><td>0.9701613                                        </td></tr>\n",
       "\t<tr><td>Ohio Valley Conference                           </td><td>14292                                            </td><td> 977.6859                                        </td><td>0.9779225                                        </td><td>0.9676848                                        </td></tr>\n",
       "\t<tr><td>Big West Conference                              </td><td>11816                                            </td><td> 977.3533                                        </td><td>0.9745904                                        </td><td>0.9711257                                        </td></tr>\n",
       "\t<tr><td>Big 12 Conference                                </td><td>17003                                            </td><td> 976.9274                                        </td><td>0.9782603                                        </td><td>0.9687637                                        </td></tr>\n",
       "\t<tr><td>Big South Conference                             </td><td>12684                                            </td><td> 976.2434                                        </td><td>0.9806370                                        </td><td>0.9638116                                        </td></tr>\n",
       "\t<tr><td>Great Lakes Valley Conference                    </td><td>  143                                            </td><td> 976.0000                                        </td><td>0.9782000                                        </td><td>0.9634000                                        </td></tr>\n",
       "\t<tr><td>Conference USA                                   </td><td>19058                                            </td><td> 975.3000                                        </td><td>0.9747643                                        </td><td>0.9681622                                        </td></tr>\n",
       "\t<tr><td>Independent                                      </td><td>  873                                            </td><td> 973.2778                                        </td><td>0.9674167                                        </td><td>0.9713222                                        </td></tr>\n",
       "\t<tr><td>Heartland Conference                             </td><td>  105                                            </td><td> 973.0000                                        </td><td>0.9903000                                        </td><td>0.9534000                                        </td></tr>\n",
       "\t<tr><td>Sun Belt Conference                              </td><td>14577                                            </td><td> 972.5311                                        </td><td>0.9738147                                        </td><td>0.9637791                                        </td></tr>\n",
       "\t<tr><td>Great Northwest Athletic Conference              </td><td>  220                                            </td><td> 967.6667                                        </td><td>0.9710333                                        </td><td>0.9623333                                        </td></tr>\n",
       "\t<tr><td>Peach Belt Conference                            </td><td>  185                                            </td><td> 967.5000                                        </td><td>0.9661000                                        </td><td>0.9690000                                        </td></tr>\n",
       "\t<tr><td>Pennsylvania State Athletic Conference           </td><td>  483                                            </td><td> 957.2857                                        </td><td>0.9659429                                        </td><td>0.9475286                                        </td></tr>\n",
       "\t<tr><td>Southwestern Athletic Conference                 </td><td> 9509                                            </td><td> 955.4631                                        </td><td>0.9305383                                        </td><td>0.9520530                                        </td></tr>\n",
       "\t<tr><td>Mid-Eastern Athletic Conference                  </td><td>12761                                            </td><td> 953.6422                                        </td><td>0.9327784                                        </td><td>0.9540059                                        </td></tr>\n",
       "</tbody>\n",
       "</table>\n"
      ],
      "text/latex": [
       "\\begin{tabular}{r|lllll}\n",
       " NCAA\\_CONFERENCE & Athletes & Scores & Eligibility & Retention\\\\\n",
       "\\hline\n",
       "\t New England Women's and Men's Athletic Conference &    62                                             & 1000.0000                                         & 1.0000000                                         & 1.0000000                                        \\\\\n",
       "\t Southern Collegiate Athletic Conference           &   158                                             &  998.5000                                         & 0.9970500                                         & 0.9935500                                        \\\\\n",
       "\t Northeast-10 Conference                           &   239                                             &  996.6667                                         & 0.9977000                                         & 0.9954000                                        \\\\\n",
       "\t The Ivy League                                    & 24480                                             &  993.1555                                         & 0.9949958                                         & 0.9902975                                        \\\\\n",
       "\t Liberty League                                    &  1012                                             &  990.1818                                         & 0.9945455                                         & 0.9851000                                        \\\\\n",
       "\t Centennial Conference                             &   274                                             &  990.0000                                         & 0.9884333                                         & 0.9899333                                        \\\\\n",
       "\t Big East Conference                               & 10961                                             &  989.4326                                         & 0.9920719                                         & 0.9834725                                        \\\\\n",
       "\t Atlantic Coast Conference                         & 26942                                             &  985.3567                                         & 0.9874107                                         & 0.9785951                                        \\\\\n",
       "\t Metro Atlantic Athletic Conference                & 13039                                             &  985.2417                                         & 0.9882104                                         & 0.9771123                                        \\\\\n",
       "\t Empire 8                                          &   142                                             &  985.0000                                         & 0.9850000                                         & 0.9743000                                        \\\\\n",
       "\t Big Ten Conference                                & 30453                                             &  984.9384                                         & 0.9842701                                         & 0.9798302                                        \\\\\n",
       "\t Colonial Athletic Association                     & 13443                                             &  983.0383                                         & 0.9844109                                         & 0.9748962                                        \\\\\n",
       "\t America East Conference                           & 11473                                             &  982.4762                                         & 0.9837589                                         & 0.9727946                                        \\\\\n",
       "\t West Coast Conference                             & 10592                                             &  982.4072                                         & 0.9845707                                         & 0.9728102                                        \\\\\n",
       "\t Northeast Conference                              & 12643                                             &  982.0253                                         & 0.9843318                                         & 0.9734864                                        \\\\\n",
       "\t Pac-12 Conference                                 & 21382                                             &  981.9920                                         & 0.9824199                                         & 0.9724131                                        \\\\\n",
       "\t Great Lakes Intercollegiate Athletic Conference   &   393                                             &  981.2500                                         & 0.9801250                                         & 0.9767500                                        \\\\\n",
       "\t Southeastern Conference                           & 25015                                             &  981.1365                                         & 0.9826834                                         & 0.9738476                                        \\\\\n",
       "\t Northern Sun Intercollegiate Conference           &   769                                             &  980.7500                                         & 0.9874125                                         & 0.9688250                                        \\\\\n",
       "\t The Summit League                                 & 11114                                             &  979.8333                                         & 0.9755994                                         & 0.9716692                                        \\\\\n",
       "\t Mid-American Conference                           & 19880                                             &  979.4860                                         & 0.9788033                                         & 0.9743224                                        \\\\\n",
       "\t Mountain West Conference                          & 18458                                             &  977.7353                                         & 0.9757206                                         & 0.9701613                                        \\\\\n",
       "\t Ohio Valley Conference                            & 14292                                             &  977.6859                                         & 0.9779225                                         & 0.9676848                                        \\\\\n",
       "\t Big West Conference                               & 11816                                             &  977.3533                                         & 0.9745904                                         & 0.9711257                                        \\\\\n",
       "\t Big 12 Conference                                 & 17003                                             &  976.9274                                         & 0.9782603                                         & 0.9687637                                        \\\\\n",
       "\t Big South Conference                              & 12684                                             &  976.2434                                         & 0.9806370                                         & 0.9638116                                        \\\\\n",
       "\t Great Lakes Valley Conference                     &   143                                             &  976.0000                                         & 0.9782000                                         & 0.9634000                                        \\\\\n",
       "\t Conference USA                                    & 19058                                             &  975.3000                                         & 0.9747643                                         & 0.9681622                                        \\\\\n",
       "\t Independent                                       &   873                                             &  973.2778                                         & 0.9674167                                         & 0.9713222                                        \\\\\n",
       "\t Heartland Conference                              &   105                                             &  973.0000                                         & 0.9903000                                         & 0.9534000                                        \\\\\n",
       "\t Sun Belt Conference                               & 14577                                             &  972.5311                                         & 0.9738147                                         & 0.9637791                                        \\\\\n",
       "\t Great Northwest Athletic Conference               &   220                                             &  967.6667                                         & 0.9710333                                         & 0.9623333                                        \\\\\n",
       "\t Peach Belt Conference                             &   185                                             &  967.5000                                         & 0.9661000                                         & 0.9690000                                        \\\\\n",
       "\t Pennsylvania State Athletic Conference            &   483                                             &  957.2857                                         & 0.9659429                                         & 0.9475286                                        \\\\\n",
       "\t Southwestern Athletic Conference                  &  9509                                             &  955.4631                                         & 0.9305383                                         & 0.9520530                                        \\\\\n",
       "\t Mid-Eastern Athletic Conference                   & 12761                                             &  953.6422                                         & 0.9327784                                         & 0.9540059                                        \\\\\n",
       "\\end{tabular}\n"
      ],
      "text/markdown": [
       "\n",
       "NCAA_CONFERENCE | Athletes | Scores | Eligibility | Retention | \n",
       "|---|---|---|---|---|---|---|---|---|---|---|---|---|---|---|---|---|---|---|---|---|---|---|---|---|---|---|---|---|---|---|---|---|---|---|---|\n",
       "| New England Women's and Men's Athletic Conference |    62                                             | 1000.0000                                         | 1.0000000                                         | 1.0000000                                         | \n",
       "| Southern Collegiate Athletic Conference           |   158                                             |  998.5000                                         | 0.9970500                                         | 0.9935500                                         | \n",
       "| Northeast-10 Conference                           |   239                                             |  996.6667                                         | 0.9977000                                         | 0.9954000                                         | \n",
       "| The Ivy League                                    | 24480                                             |  993.1555                                         | 0.9949958                                         | 0.9902975                                         | \n",
       "| Liberty League                                    |  1012                                             |  990.1818                                         | 0.9945455                                         | 0.9851000                                         | \n",
       "| Centennial Conference                             |   274                                             |  990.0000                                         | 0.9884333                                         | 0.9899333                                         | \n",
       "| Big East Conference                               | 10961                                             |  989.4326                                         | 0.9920719                                         | 0.9834725                                         | \n",
       "| Atlantic Coast Conference                         | 26942                                             |  985.3567                                         | 0.9874107                                         | 0.9785951                                         | \n",
       "| Metro Atlantic Athletic Conference                | 13039                                             |  985.2417                                         | 0.9882104                                         | 0.9771123                                         | \n",
       "| Empire 8                                          |   142                                             |  985.0000                                         | 0.9850000                                         | 0.9743000                                         | \n",
       "| Big Ten Conference                                | 30453                                             |  984.9384                                         | 0.9842701                                         | 0.9798302                                         | \n",
       "| Colonial Athletic Association                     | 13443                                             |  983.0383                                         | 0.9844109                                         | 0.9748962                                         | \n",
       "| America East Conference                           | 11473                                             |  982.4762                                         | 0.9837589                                         | 0.9727946                                         | \n",
       "| West Coast Conference                             | 10592                                             |  982.4072                                         | 0.9845707                                         | 0.9728102                                         | \n",
       "| Northeast Conference                              | 12643                                             |  982.0253                                         | 0.9843318                                         | 0.9734864                                         | \n",
       "| Pac-12 Conference                                 | 21382                                             |  981.9920                                         | 0.9824199                                         | 0.9724131                                         | \n",
       "| Great Lakes Intercollegiate Athletic Conference   |   393                                             |  981.2500                                         | 0.9801250                                         | 0.9767500                                         | \n",
       "| Southeastern Conference                           | 25015                                             |  981.1365                                         | 0.9826834                                         | 0.9738476                                         | \n",
       "| Northern Sun Intercollegiate Conference           |   769                                             |  980.7500                                         | 0.9874125                                         | 0.9688250                                         | \n",
       "| The Summit League                                 | 11114                                             |  979.8333                                         | 0.9755994                                         | 0.9716692                                         | \n",
       "| Mid-American Conference                           | 19880                                             |  979.4860                                         | 0.9788033                                         | 0.9743224                                         | \n",
       "| Mountain West Conference                          | 18458                                             |  977.7353                                         | 0.9757206                                         | 0.9701613                                         | \n",
       "| Ohio Valley Conference                            | 14292                                             |  977.6859                                         | 0.9779225                                         | 0.9676848                                         | \n",
       "| Big West Conference                               | 11816                                             |  977.3533                                         | 0.9745904                                         | 0.9711257                                         | \n",
       "| Big 12 Conference                                 | 17003                                             |  976.9274                                         | 0.9782603                                         | 0.9687637                                         | \n",
       "| Big South Conference                              | 12684                                             |  976.2434                                         | 0.9806370                                         | 0.9638116                                         | \n",
       "| Great Lakes Valley Conference                     |   143                                             |  976.0000                                         | 0.9782000                                         | 0.9634000                                         | \n",
       "| Conference USA                                    | 19058                                             |  975.3000                                         | 0.9747643                                         | 0.9681622                                         | \n",
       "| Independent                                       |   873                                             |  973.2778                                         | 0.9674167                                         | 0.9713222                                         | \n",
       "| Heartland Conference                              |   105                                             |  973.0000                                         | 0.9903000                                         | 0.9534000                                         | \n",
       "| Sun Belt Conference                               | 14577                                             |  972.5311                                         | 0.9738147                                         | 0.9637791                                         | \n",
       "| Great Northwest Athletic Conference               |   220                                             |  967.6667                                         | 0.9710333                                         | 0.9623333                                         | \n",
       "| Peach Belt Conference                             |   185                                             |  967.5000                                         | 0.9661000                                         | 0.9690000                                         | \n",
       "| Pennsylvania State Athletic Conference            |   483                                             |  957.2857                                         | 0.9659429                                         | 0.9475286                                         | \n",
       "| Southwestern Athletic Conference                  |  9509                                             |  955.4631                                         | 0.9305383                                         | 0.9520530                                         | \n",
       "| Mid-Eastern Athletic Conference                   | 12761                                             |  953.6422                                         | 0.9327784                                         | 0.9540059                                         | \n",
       "\n",
       "\n"
      ],
      "text/plain": [
       "   NCAA_CONFERENCE                                   Athletes Scores   \n",
       "1  New England Women's and Men's Athletic Conference    62    1000.0000\n",
       "2  Southern Collegiate Athletic Conference             158     998.5000\n",
       "3  Northeast-10 Conference                             239     996.6667\n",
       "4  The Ivy League                                    24480     993.1555\n",
       "5  Liberty League                                     1012     990.1818\n",
       "6  Centennial Conference                               274     990.0000\n",
       "7  Big East Conference                               10961     989.4326\n",
       "8  Atlantic Coast Conference                         26942     985.3567\n",
       "9  Metro Atlantic Athletic Conference                13039     985.2417\n",
       "10 Empire 8                                            142     985.0000\n",
       "11 Big Ten Conference                                30453     984.9384\n",
       "12 Colonial Athletic Association                     13443     983.0383\n",
       "13 America East Conference                           11473     982.4762\n",
       "14 West Coast Conference                             10592     982.4072\n",
       "15 Northeast Conference                              12643     982.0253\n",
       "16 Pac-12 Conference                                 21382     981.9920\n",
       "17 Great Lakes Intercollegiate Athletic Conference     393     981.2500\n",
       "18 Southeastern Conference                           25015     981.1365\n",
       "19 Northern Sun Intercollegiate Conference             769     980.7500\n",
       "20 The Summit League                                 11114     979.8333\n",
       "21 Mid-American Conference                           19880     979.4860\n",
       "22 Mountain West Conference                          18458     977.7353\n",
       "23 Ohio Valley Conference                            14292     977.6859\n",
       "24 Big West Conference                               11816     977.3533\n",
       "25 Big 12 Conference                                 17003     976.9274\n",
       "26 Big South Conference                              12684     976.2434\n",
       "27 Great Lakes Valley Conference                       143     976.0000\n",
       "28 Conference USA                                    19058     975.3000\n",
       "29 Independent                                         873     973.2778\n",
       "30 Heartland Conference                                105     973.0000\n",
       "31 Sun Belt Conference                               14577     972.5311\n",
       "32 Great Northwest Athletic Conference                 220     967.6667\n",
       "33 Peach Belt Conference                               185     967.5000\n",
       "34 Pennsylvania State Athletic Conference              483     957.2857\n",
       "35 Southwestern Athletic Conference                   9509     955.4631\n",
       "36 Mid-Eastern Athletic Conference                   12761     953.6422\n",
       "   Eligibility Retention\n",
       "1  1.0000000   1.0000000\n",
       "2  0.9970500   0.9935500\n",
       "3  0.9977000   0.9954000\n",
       "4  0.9949958   0.9902975\n",
       "5  0.9945455   0.9851000\n",
       "6  0.9884333   0.9899333\n",
       "7  0.9920719   0.9834725\n",
       "8  0.9874107   0.9785951\n",
       "9  0.9882104   0.9771123\n",
       "10 0.9850000   0.9743000\n",
       "11 0.9842701   0.9798302\n",
       "12 0.9844109   0.9748962\n",
       "13 0.9837589   0.9727946\n",
       "14 0.9845707   0.9728102\n",
       "15 0.9843318   0.9734864\n",
       "16 0.9824199   0.9724131\n",
       "17 0.9801250   0.9767500\n",
       "18 0.9826834   0.9738476\n",
       "19 0.9874125   0.9688250\n",
       "20 0.9755994   0.9716692\n",
       "21 0.9788033   0.9743224\n",
       "22 0.9757206   0.9701613\n",
       "23 0.9779225   0.9676848\n",
       "24 0.9745904   0.9711257\n",
       "25 0.9782603   0.9687637\n",
       "26 0.9806370   0.9638116\n",
       "27 0.9782000   0.9634000\n",
       "28 0.9747643   0.9681622\n",
       "29 0.9674167   0.9713222\n",
       "30 0.9903000   0.9534000\n",
       "31 0.9738147   0.9637791\n",
       "32 0.9710333   0.9623333\n",
       "33 0.9661000   0.9690000\n",
       "34 0.9659429   0.9475286\n",
       "35 0.9305383   0.9520530\n",
       "36 0.9327784   0.9540059"
      ]
     },
     "metadata": {},
     "output_type": "display_data"
    }
   ],
   "source": [
    "conferences <- scores %>%\n",
    "    group_by(NCAA_CONFERENCE) %>%\n",
    "    summarise(\n",
    "    Athletes = sum(FOURYEAR_ATHLETES), Scores = mean(FOURYEAR_SCORE),\n",
    "    Eligibility = mean(FOURYEAR_ELIGIBILITY), Retention = mean(FOURYEAR_RETENTION)\n",
    "    ) %>% filter(Retention >= .94) %>%\n",
    "    arrange(desc(Scores, Retention))\n",
    "\n",
    "conferences"
   ]
  },
  {
   "cell_type": "code",
   "execution_count": 5,
   "metadata": {
    "scrolled": false
   },
   "outputs": [
    {
     "data": {},
     "metadata": {},
     "output_type": "display_data"
    },
    {
     "data": {
      "image/png": "[encoded data removed]",
      "text/plain": [
       "plot without title"
      ]
     },
     "metadata": {},
     "output_type": "display_data"
    }
   ],
   "source": [
    "ggplot(conferences, aes(x = Scores, y = Retention, size= Athletes)) +\n",
    "geom_point(alpha=.4, color=\"Blue\") +\n",
    "scale_size_continuous(range=c(1,12)) + \n",
    "geom_text(data=subset(conferences,NCAA_CONFERENCE == \"Big Ten Conference\" | NCAA_CONFERENCE == \"Atlantic Coast Conference\"| \n",
    "            NCAA_CONFERENCE == \"Big 12 Conference\"), aes(label=NCAA_CONFERENCE), size=2.8, nudge_x=3, check_overlap=TRUE)"
   ]
  },
  {
   "cell_type": "markdown",
   "metadata": {},
   "source": [
    "University of Nebraska-Lincoln, who used to be a part of the Big 12 Conference, is now in the Big Ten Conference. Compare to other conferences, the Big Ten Conference has overall higher scores."
   ]
  },
  {
   "cell_type": "markdown",
   "metadata": {},
   "source": [
    "## College"
   ]
  },
  {
   "cell_type": "code",
   "execution_count": 6,
   "metadata": {},
   "outputs": [
    {
     "data": {
      "text/html": [
       "<table>\n",
       "<thead><tr><th scope=col>SCHOOL_NAME</th><th scope=col>Athletes</th><th scope=col>Scores</th><th scope=col>Eligibility</th><th scope=col>Retention</th></tr></thead>\n",
       "<tbody>\n",
       "\t<tr><td>Massachusetts Institute of Technology</td><td>  62                                 </td><td>1000.0000                            </td><td>1.0000000                            </td><td>1.0000000                            </td></tr>\n",
       "\t<tr><td>Merrimack College                    </td><td>  92                                 </td><td>1000.0000                            </td><td>1.0000000                            </td><td>1.0000000                            </td></tr>\n",
       "\t<tr><td>Dartmouth College                    </td><td>3092                                 </td><td> 999.1071                            </td><td>0.9993679                            </td><td>0.9988179                            </td></tr>\n",
       "\t<tr><td>Colorado College                     </td><td> 158                                 </td><td> 998.5000                            </td><td>0.9970500                            </td><td>0.9935500                            </td></tr>\n",
       "\t<tr><td>Rensselaer Polytechnic Institute     </td><td> 169                                 </td><td> 998.5000                            </td><td>1.0000000                            </td><td>0.9968000                            </td></tr>\n",
       "\t<tr><td>Gonzaga University                   </td><td>1145                                 </td><td> 997.6471                            </td><td>0.9989824                            </td><td>0.9957118                            </td></tr>\n",
       "</tbody>\n",
       "</table>\n"
      ],
      "text/latex": [
       "\\begin{tabular}{r|lllll}\n",
       " SCHOOL\\_NAME & Athletes & Scores & Eligibility & Retention\\\\\n",
       "\\hline\n",
       "\t Massachusetts Institute of Technology &   62                                  & 1000.0000                             & 1.0000000                             & 1.0000000                            \\\\\n",
       "\t Merrimack College                     &   92                                  & 1000.0000                             & 1.0000000                             & 1.0000000                            \\\\\n",
       "\t Dartmouth College                     & 3092                                  &  999.1071                             & 0.9993679                             & 0.9988179                            \\\\\n",
       "\t Colorado College                      &  158                                  &  998.5000                             & 0.9970500                             & 0.9935500                            \\\\\n",
       "\t Rensselaer Polytechnic Institute      &  169                                  &  998.5000                             & 1.0000000                             & 0.9968000                            \\\\\n",
       "\t Gonzaga University                    & 1145                                  &  997.6471                             & 0.9989824                             & 0.9957118                            \\\\\n",
       "\\end{tabular}\n"
      ],
      "text/markdown": [
       "\n",
       "SCHOOL_NAME | Athletes | Scores | Eligibility | Retention | \n",
       "|---|---|---|---|---|---|\n",
       "| Massachusetts Institute of Technology |   62                                  | 1000.0000                             | 1.0000000                             | 1.0000000                             | \n",
       "| Merrimack College                     |   92                                  | 1000.0000                             | 1.0000000                             | 1.0000000                             | \n",
       "| Dartmouth College                     | 3092                                  |  999.1071                             | 0.9993679                             | 0.9988179                             | \n",
       "| Colorado College                      |  158                                  |  998.5000                             | 0.9970500                             | 0.9935500                             | \n",
       "| Rensselaer Polytechnic Institute      |  169                                  |  998.5000                             | 1.0000000                             | 0.9968000                             | \n",
       "| Gonzaga University                    | 1145                                  |  997.6471                             | 0.9989824                             | 0.9957118                             | \n",
       "\n",
       "\n"
      ],
      "text/plain": [
       "  SCHOOL_NAME                           Athletes Scores    Eligibility\n",
       "1 Massachusetts Institute of Technology   62     1000.0000 1.0000000  \n",
       "2 Merrimack College                       92     1000.0000 1.0000000  \n",
       "3 Dartmouth College                     3092      999.1071 0.9993679  \n",
       "4 Colorado College                       158      998.5000 0.9970500  \n",
       "5 Rensselaer Polytechnic Institute       169      998.5000 1.0000000  \n",
       "6 Gonzaga University                    1145      997.6471 0.9989824  \n",
       "  Retention\n",
       "1 1.0000000\n",
       "2 1.0000000\n",
       "3 0.9988179\n",
       "4 0.9935500\n",
       "5 0.9968000\n",
       "6 0.9957118"
      ]
     },
     "metadata": {},
     "output_type": "display_data"
    },
    {
     "data": {
      "text/html": [
       "<table>\n",
       "<thead><tr><th scope=col>n</th></tr></thead>\n",
       "<tbody>\n",
       "\t<tr><td>375</td></tr>\n",
       "</tbody>\n",
       "</table>\n"
      ],
      "text/latex": [
       "\\begin{tabular}{r|l}\n",
       " n\\\\\n",
       "\\hline\n",
       "\t 375\\\\\n",
       "\\end{tabular}\n"
      ],
      "text/markdown": [
       "\n",
       "n | \n",
       "|---|\n",
       "| 375 | \n",
       "\n",
       "\n"
      ],
      "text/plain": [
       "  n  \n",
       "1 375"
      ]
     },
     "metadata": {},
     "output_type": "display_data"
    }
   ],
   "source": [
    "schools <- scores %>%\n",
    "    group_by(SCHOOL_NAME) %>%\n",
    "    summarise(\n",
    "    Athletes = sum(FOURYEAR_ATHLETES), Scores = mean(FOURYEAR_SCORE),\n",
    "    Eligibility = mean(FOURYEAR_ELIGIBILITY), Retention = mean(FOURYEAR_RETENTION)\n",
    "    ) %>% filter(Eligibility >= .88 & Retention >= .88) %>% \n",
    "    arrange(desc(Scores, Retention))\n",
    "\n",
    "head(schools)\n",
    "count(schools)"
   ]
  },
  {
   "cell_type": "code",
   "execution_count": 7,
   "metadata": {},
   "outputs": [
    {
     "data": {},
     "metadata": {},
     "output_type": "display_data"
    },
    {
     "data": {
      "image/png": "[encoded data removed]",
      "text/plain": [
       "plot without title"
      ]
     },
     "metadata": {},
     "output_type": "display_data"
    }
   ],
   "source": [
    "ggplot(schools, aes(x = Scores, y = Retention, size= Athletes)) +\n",
    "geom_point(alpha=.3, color=\"Yellow\") +\n",
    "geom_point(data=subset(schools, SCHOOL_NAME == \"University of Nebraska, Lincoln\"), alpha=.8, color=\"Red\") +\n",
    "scale_size_continuous(range=c(1,12)) + \n",
    "geom_text(data=subset(schools, SCHOOL_NAME == \"University of Nebraska, Lincoln\"), \n",
    "                      aes(label=SCHOOL_NAME), size=3, nudge_x=3, check_overlap=TRUE)"
   ]
  },
  {
   "cell_type": "markdown",
   "metadata": {},
   "source": [
    "University of Nebraska-Lincoln has a adequately decent academic performance overall."
   ]
  },
  {
   "cell_type": "code",
   "execution_count": 8,
   "metadata": {},
   "outputs": [
    {
     "data": {
      "text/html": [
       "<table>\n",
       "<thead><tr><th scope=col>SPORT_NAME</th><th scope=col>Athletes</th><th scope=col>Scores</th><th scope=col>Eligibility</th><th scope=col>Retention</th></tr></thead>\n",
       "<tbody>\n",
       "\t<tr><td>Women's Golf          </td><td> 29.51711             </td><td>991.6008              </td><td> 0.9889894            </td><td> 0.9808764            </td></tr>\n",
       "\t<tr><td>Women's Gymnastics    </td><td> 54.04918             </td><td>990.9836              </td><td> 0.9908361            </td><td> 0.9877885            </td></tr>\n",
       "\t<tr><td>Women's Lacrosse      </td><td> 90.15534             </td><td>989.9612              </td><td> 0.9916369            </td><td> 0.9830544            </td></tr>\n",
       "\t<tr><td>Women's Ice Hockey    </td><td> 79.91429             </td><td>989.9143              </td><td> 0.9952657            </td><td> 0.9830229            </td></tr>\n",
       "\t<tr><td>Women's Tennis        </td><td> 30.58696             </td><td>988.9627              </td><td> 0.9901512            </td><td> 0.9781022            </td></tr>\n",
       "\t<tr><td>Women's Water Polo    </td><td> 58.31250             </td><td>988.4688              </td><td> 0.9887063            </td><td> 0.9818187            </td></tr>\n",
       "\t<tr><td>Women's Field Hockey  </td><td> 72.98718             </td><td>988.2308              </td><td> 0.9922513            </td><td> 0.9818372            </td></tr>\n",
       "\t<tr><td>Women's Swimming      </td><td> 86.62944             </td><td>988.1320              </td><td> 0.9885797            </td><td> 0.9845107            </td></tr>\n",
       "\t<tr><td>Women's Cross Country </td><td> 44.71965             </td><td>987.9913              </td><td> 0.9859500            </td><td> 0.9826353            </td></tr>\n",
       "\t<tr><td>Women's Skiing        </td><td> 42.66667             </td><td>987.7500              </td><td> 0.9950083            </td><td> 0.9738083            </td></tr>\n",
       "\t<tr><td>Women's Bowling       </td><td> 28.62500             </td><td>985.7812              </td><td> 0.9735625            </td><td> 0.9728469            </td></tr>\n",
       "\t<tr><td>Men's Water Polo      </td><td> 57.04545             </td><td>985.7727              </td><td> 0.9846091            </td><td> 0.9810864            </td></tr>\n",
       "\t<tr><td>Men's Ice Hockey      </td><td> 91.05085             </td><td>985.2373              </td><td> 0.9886271            </td><td> 0.9773814            </td></tr>\n",
       "\t<tr><td>Men's Gymnastics      </td><td> 52.53333             </td><td>985.1333              </td><td> 0.9766400            </td><td> 0.9841400            </td></tr>\n",
       "\t<tr><td>Men's Volleyball      </td><td> 46.90909             </td><td>984.8182              </td><td> 0.9808955            </td><td> 0.9810909            </td></tr>\n",
       "\t<tr><td>Women's Soccer        </td><td> 91.06991             </td><td>984.2979              </td><td> 0.9879766            </td><td> 0.9769574            </td></tr>\n",
       "\t<tr><td>Women's Volleyball    </td><td> 48.58859             </td><td>983.7297              </td><td> 0.9862868            </td><td> 0.9766853            </td></tr>\n",
       "\t<tr><td>Men's Skiing          </td><td> 40.36364             </td><td>983.0909              </td><td> 0.9883182            </td><td> 0.9731545            </td></tr>\n",
       "\t<tr><td>Women's Track, Outdoor</td><td>102.71601             </td><td>981.9003              </td><td> 0.9770402            </td><td> 0.9812976            </td></tr>\n",
       "\t<tr><td>Women's Softball      </td><td> 70.85324             </td><td>981.2560              </td><td> 0.9828276            </td><td> 0.9740952            </td></tr>\n",
       "\t<tr><td>Women's Track, Indoor </td><td>103.80000             </td><td>980.4250              </td><td> 0.9759937            </td><td> 0.9795116            </td></tr>\n",
       "\t<tr><td>Men's Golf            </td><td> 32.64901             </td><td>980.2649              </td><td> 0.6483881            </td><td> 0.6427331            </td></tr>\n",
       "\t<tr><td>Men's Swimming        </td><td> 78.35556             </td><td>979.5407              </td><td> 0.9763578            </td><td> 0.9770615            </td></tr>\n",
       "\t<tr><td>Men's Lacrosse        </td><td>118.38806             </td><td>978.3582              </td><td> 0.9803299            </td><td> 0.9687925            </td></tr>\n",
       "\t<tr><td>Men's Tennis          </td><td> 32.40996             </td><td>978.2222              </td><td> 0.5986452            </td><td> 0.5869027            </td></tr>\n",
       "\t<tr><td>Women's Rowing        </td><td>100.13793             </td><td>975.9310              </td><td>-0.1609460            </td><td>-0.1638770            </td></tr>\n",
       "\t<tr><td>Women's Basketball    </td><td> 55.02299             </td><td>975.7931              </td><td> 0.9808526            </td><td> 0.9649267            </td></tr>\n",
       "\t<tr><td>Men's Soccer          </td><td> 77.13300             </td><td>971.6601              </td><td> 0.9754655            </td><td> 0.9599271            </td></tr>\n",
       "\t<tr><td>Men's Track, Outdoor  </td><td> 91.12143             </td><td>971.0321              </td><td> 0.9599611            </td><td> 0.9725493            </td></tr>\n",
       "\t<tr><td>Baseball              </td><td> 98.05333             </td><td>969.2667              </td><td> 0.9758407            </td><td> 0.9527947            </td></tr>\n",
       "\t<tr><td>Men's Track, Indoor   </td><td> 90.05019             </td><td>969.2124              </td><td> 0.9573680            </td><td> 0.9708305            </td></tr>\n",
       "\t<tr><td>Men's Cross Country   </td><td> 35.43810             </td><td>965.5619              </td><td>-0.6142610            </td><td>-0.6102971            </td></tr>\n",
       "\t<tr><td>Men's Wrestling       </td><td> 82.89610             </td><td>964.4675              </td><td> 0.9607130            </td><td> 0.9585766            </td></tr>\n",
       "\t<tr><td>Men's Basketball      </td><td> 51.05714             </td><td>961.4800              </td><td> 0.9680526            </td><td> 0.9412540            </td></tr>\n",
       "\t<tr><td>Football              </td><td>332.03213             </td><td>956.2932              </td><td> 0.9487900            </td><td> 0.9528357            </td></tr>\n",
       "\t<tr><td>Women's Fencing       </td><td> 28.77273             </td><td>940.5000              </td><td>-3.5562727            </td><td>-3.5627409            </td></tr>\n",
       "\t<tr><td>Mixed Rifle           </td><td> 30.50000             </td><td>932.1818              </td><td>-3.5708364            </td><td>-3.5623227            </td></tr>\n",
       "\t<tr><td>Men's Fencing         </td><td> 31.11111             </td><td>928.2778              </td><td>-4.5754833            </td><td>-4.5719778            </td></tr>\n",
       "</tbody>\n",
       "</table>\n"
      ],
      "text/latex": [
       "\\begin{tabular}{r|lllll}\n",
       " SPORT\\_NAME & Athletes & Scores & Eligibility & Retention\\\\\n",
       "\\hline\n",
       "\t Women's Golf           &  29.51711              & 991.6008               &  0.9889894             &  0.9808764            \\\\\n",
       "\t Women's Gymnastics     &  54.04918              & 990.9836               &  0.9908361             &  0.9877885            \\\\\n",
       "\t Women's Lacrosse       &  90.15534              & 989.9612               &  0.9916369             &  0.9830544            \\\\\n",
       "\t Women's Ice Hockey     &  79.91429              & 989.9143               &  0.9952657             &  0.9830229            \\\\\n",
       "\t Women's Tennis         &  30.58696              & 988.9627               &  0.9901512             &  0.9781022            \\\\\n",
       "\t Women's Water Polo     &  58.31250              & 988.4688               &  0.9887063             &  0.9818187            \\\\\n",
       "\t Women's Field Hockey   &  72.98718              & 988.2308               &  0.9922513             &  0.9818372            \\\\\n",
       "\t Women's Swimming       &  86.62944              & 988.1320               &  0.9885797             &  0.9845107            \\\\\n",
       "\t Women's Cross Country  &  44.71965              & 987.9913               &  0.9859500             &  0.9826353            \\\\\n",
       "\t Women's Skiing         &  42.66667              & 987.7500               &  0.9950083             &  0.9738083            \\\\\n",
       "\t Women's Bowling        &  28.62500              & 985.7812               &  0.9735625             &  0.9728469            \\\\\n",
       "\t Men's Water Polo       &  57.04545              & 985.7727               &  0.9846091             &  0.9810864            \\\\\n",
       "\t Men's Ice Hockey       &  91.05085              & 985.2373               &  0.9886271             &  0.9773814            \\\\\n",
       "\t Men's Gymnastics       &  52.53333              & 985.1333               &  0.9766400             &  0.9841400            \\\\\n",
       "\t Men's Volleyball       &  46.90909              & 984.8182               &  0.9808955             &  0.9810909            \\\\\n",
       "\t Women's Soccer         &  91.06991              & 984.2979               &  0.9879766             &  0.9769574            \\\\\n",
       "\t Women's Volleyball     &  48.58859              & 983.7297               &  0.9862868             &  0.9766853            \\\\\n",
       "\t Men's Skiing           &  40.36364              & 983.0909               &  0.9883182             &  0.9731545            \\\\\n",
       "\t Women's Track, Outdoor & 102.71601              & 981.9003               &  0.9770402             &  0.9812976            \\\\\n",
       "\t Women's Softball       &  70.85324              & 981.2560               &  0.9828276             &  0.9740952            \\\\\n",
       "\t Women's Track, Indoor  & 103.80000              & 980.4250               &  0.9759937             &  0.9795116            \\\\\n",
       "\t Men's Golf             &  32.64901              & 980.2649               &  0.6483881             &  0.6427331            \\\\\n",
       "\t Men's Swimming         &  78.35556              & 979.5407               &  0.9763578             &  0.9770615            \\\\\n",
       "\t Men's Lacrosse         & 118.38806              & 978.3582               &  0.9803299             &  0.9687925            \\\\\n",
       "\t Men's Tennis           &  32.40996              & 978.2222               &  0.5986452             &  0.5869027            \\\\\n",
       "\t Women's Rowing         & 100.13793              & 975.9310               & -0.1609460             & -0.1638770            \\\\\n",
       "\t Women's Basketball     &  55.02299              & 975.7931               &  0.9808526             &  0.9649267            \\\\\n",
       "\t Men's Soccer           &  77.13300              & 971.6601               &  0.9754655             &  0.9599271            \\\\\n",
       "\t Men's Track, Outdoor   &  91.12143              & 971.0321               &  0.9599611             &  0.9725493            \\\\\n",
       "\t Baseball               &  98.05333              & 969.2667               &  0.9758407             &  0.9527947            \\\\\n",
       "\t Men's Track, Indoor    &  90.05019              & 969.2124               &  0.9573680             &  0.9708305            \\\\\n",
       "\t Men's Cross Country    &  35.43810              & 965.5619               & -0.6142610             & -0.6102971            \\\\\n",
       "\t Men's Wrestling        &  82.89610              & 964.4675               &  0.9607130             &  0.9585766            \\\\\n",
       "\t Men's Basketball       &  51.05714              & 961.4800               &  0.9680526             &  0.9412540            \\\\\n",
       "\t Football               & 332.03213              & 956.2932               &  0.9487900             &  0.9528357            \\\\\n",
       "\t Women's Fencing        &  28.77273              & 940.5000               & -3.5562727             & -3.5627409            \\\\\n",
       "\t Mixed Rifle            &  30.50000              & 932.1818               & -3.5708364             & -3.5623227            \\\\\n",
       "\t Men's Fencing          &  31.11111              & 928.2778               & -4.5754833             & -4.5719778            \\\\\n",
       "\\end{tabular}\n"
      ],
      "text/markdown": [
       "\n",
       "SPORT_NAME | Athletes | Scores | Eligibility | Retention | \n",
       "|---|---|---|---|---|---|---|---|---|---|---|---|---|---|---|---|---|---|---|---|---|---|---|---|---|---|---|---|---|---|---|---|---|---|---|---|---|---|\n",
       "| Women's Golf           |  29.51711              | 991.6008               |  0.9889894             |  0.9808764             | \n",
       "| Women's Gymnastics     |  54.04918              | 990.9836               |  0.9908361             |  0.9877885             | \n",
       "| Women's Lacrosse       |  90.15534              | 989.9612               |  0.9916369             |  0.9830544             | \n",
       "| Women's Ice Hockey     |  79.91429              | 989.9143               |  0.9952657             |  0.9830229             | \n",
       "| Women's Tennis         |  30.58696              | 988.9627               |  0.9901512             |  0.9781022             | \n",
       "| Women's Water Polo     |  58.31250              | 988.4688               |  0.9887063             |  0.9818187             | \n",
       "| Women's Field Hockey   |  72.98718              | 988.2308               |  0.9922513             |  0.9818372             | \n",
       "| Women's Swimming       |  86.62944              | 988.1320               |  0.9885797             |  0.9845107             | \n",
       "| Women's Cross Country  |  44.71965              | 987.9913               |  0.9859500             |  0.9826353             | \n",
       "| Women's Skiing         |  42.66667              | 987.7500               |  0.9950083             |  0.9738083             | \n",
       "| Women's Bowling        |  28.62500              | 985.7812               |  0.9735625             |  0.9728469             | \n",
       "| Men's Water Polo       |  57.04545              | 985.7727               |  0.9846091             |  0.9810864             | \n",
       "| Men's Ice Hockey       |  91.05085              | 985.2373               |  0.9886271             |  0.9773814             | \n",
       "| Men's Gymnastics       |  52.53333              | 985.1333               |  0.9766400             |  0.9841400             | \n",
       "| Men's Volleyball       |  46.90909              | 984.8182               |  0.9808955             |  0.9810909             | \n",
       "| Women's Soccer         |  91.06991              | 984.2979               |  0.9879766             |  0.9769574             | \n",
       "| Women's Volleyball     |  48.58859              | 983.7297               |  0.9862868             |  0.9766853             | \n",
       "| Men's Skiing           |  40.36364              | 983.0909               |  0.9883182             |  0.9731545             | \n",
       "| Women's Track, Outdoor | 102.71601              | 981.9003               |  0.9770402             |  0.9812976             | \n",
       "| Women's Softball       |  70.85324              | 981.2560               |  0.9828276             |  0.9740952             | \n",
       "| Women's Track, Indoor  | 103.80000              | 980.4250               |  0.9759937             |  0.9795116             | \n",
       "| Men's Golf             |  32.64901              | 980.2649               |  0.6483881             |  0.6427331             | \n",
       "| Men's Swimming         |  78.35556              | 979.5407               |  0.9763578             |  0.9770615             | \n",
       "| Men's Lacrosse         | 118.38806              | 978.3582               |  0.9803299             |  0.9687925             | \n",
       "| Men's Tennis           |  32.40996              | 978.2222               |  0.5986452             |  0.5869027             | \n",
       "| Women's Rowing         | 100.13793              | 975.9310               | -0.1609460             | -0.1638770             | \n",
       "| Women's Basketball     |  55.02299              | 975.7931               |  0.9808526             |  0.9649267             | \n",
       "| Men's Soccer           |  77.13300              | 971.6601               |  0.9754655             |  0.9599271             | \n",
       "| Men's Track, Outdoor   |  91.12143              | 971.0321               |  0.9599611             |  0.9725493             | \n",
       "| Baseball               |  98.05333              | 969.2667               |  0.9758407             |  0.9527947             | \n",
       "| Men's Track, Indoor    |  90.05019              | 969.2124               |  0.9573680             |  0.9708305             | \n",
       "| Men's Cross Country    |  35.43810              | 965.5619               | -0.6142610             | -0.6102971             | \n",
       "| Men's Wrestling        |  82.89610              | 964.4675               |  0.9607130             |  0.9585766             | \n",
       "| Men's Basketball       |  51.05714              | 961.4800               |  0.9680526             |  0.9412540             | \n",
       "| Football               | 332.03213              | 956.2932               |  0.9487900             |  0.9528357             | \n",
       "| Women's Fencing        |  28.77273              | 940.5000               | -3.5562727             | -3.5627409             | \n",
       "| Mixed Rifle            |  30.50000              | 932.1818               | -3.5708364             | -3.5623227             | \n",
       "| Men's Fencing          |  31.11111              | 928.2778               | -4.5754833             | -4.5719778             | \n",
       "\n",
       "\n"
      ],
      "text/plain": [
       "   SPORT_NAME             Athletes  Scores   Eligibility Retention \n",
       "1  Women's Golf            29.51711 991.6008  0.9889894   0.9808764\n",
       "2  Women's Gymnastics      54.04918 990.9836  0.9908361   0.9877885\n",
       "3  Women's Lacrosse        90.15534 989.9612  0.9916369   0.9830544\n",
       "4  Women's Ice Hockey      79.91429 989.9143  0.9952657   0.9830229\n",
       "5  Women's Tennis          30.58696 988.9627  0.9901512   0.9781022\n",
       "6  Women's Water Polo      58.31250 988.4688  0.9887063   0.9818187\n",
       "7  Women's Field Hockey    72.98718 988.2308  0.9922513   0.9818372\n",
       "8  Women's Swimming        86.62944 988.1320  0.9885797   0.9845107\n",
       "9  Women's Cross Country   44.71965 987.9913  0.9859500   0.9826353\n",
       "10 Women's Skiing          42.66667 987.7500  0.9950083   0.9738083\n",
       "11 Women's Bowling         28.62500 985.7812  0.9735625   0.9728469\n",
       "12 Men's Water Polo        57.04545 985.7727  0.9846091   0.9810864\n",
       "13 Men's Ice Hockey        91.05085 985.2373  0.9886271   0.9773814\n",
       "14 Men's Gymnastics        52.53333 985.1333  0.9766400   0.9841400\n",
       "15 Men's Volleyball        46.90909 984.8182  0.9808955   0.9810909\n",
       "16 Women's Soccer          91.06991 984.2979  0.9879766   0.9769574\n",
       "17 Women's Volleyball      48.58859 983.7297  0.9862868   0.9766853\n",
       "18 Men's Skiing            40.36364 983.0909  0.9883182   0.9731545\n",
       "19 Women's Track, Outdoor 102.71601 981.9003  0.9770402   0.9812976\n",
       "20 Women's Softball        70.85324 981.2560  0.9828276   0.9740952\n",
       "21 Women's Track, Indoor  103.80000 980.4250  0.9759937   0.9795116\n",
       "22 Men's Golf              32.64901 980.2649  0.6483881   0.6427331\n",
       "23 Men's Swimming          78.35556 979.5407  0.9763578   0.9770615\n",
       "24 Men's Lacrosse         118.38806 978.3582  0.9803299   0.9687925\n",
       "25 Men's Tennis            32.40996 978.2222  0.5986452   0.5869027\n",
       "26 Women's Rowing         100.13793 975.9310 -0.1609460  -0.1638770\n",
       "27 Women's Basketball      55.02299 975.7931  0.9808526   0.9649267\n",
       "28 Men's Soccer            77.13300 971.6601  0.9754655   0.9599271\n",
       "29 Men's Track, Outdoor    91.12143 971.0321  0.9599611   0.9725493\n",
       "30 Baseball                98.05333 969.2667  0.9758407   0.9527947\n",
       "31 Men's Track, Indoor     90.05019 969.2124  0.9573680   0.9708305\n",
       "32 Men's Cross Country     35.43810 965.5619 -0.6142610  -0.6102971\n",
       "33 Men's Wrestling         82.89610 964.4675  0.9607130   0.9585766\n",
       "34 Men's Basketball        51.05714 961.4800  0.9680526   0.9412540\n",
       "35 Football               332.03213 956.2932  0.9487900   0.9528357\n",
       "36 Women's Fencing         28.77273 940.5000 -3.5562727  -3.5627409\n",
       "37 Mixed Rifle             30.50000 932.1818 -3.5708364  -3.5623227\n",
       "38 Men's Fencing           31.11111 928.2778 -4.5754833  -4.5719778"
      ]
     },
     "metadata": {},
     "output_type": "display_data"
    }
   ],
   "source": [
    "sports <- scores %>%\n",
    "    group_by(SPORT_NAME) %>%\n",
    "    summarise(\n",
    "    Athletes = mean(FOURYEAR_ATHLETES), Scores = mean(FOURYEAR_SCORE),\n",
    "    Eligibility = mean(FOURYEAR_ELIGIBILITY), Retention = mean(FOURYEAR_RETENTION)\n",
    "    ) %>% arrange(desc(Scores, Retention))\n",
    "\n",
    "sports"
   ]
  },
  {
   "cell_type": "markdown",
   "metadata": {},
   "source": [
    "By grouping sports, we realize that overall, female student-athletes perform better than male student-athletes."
   ]
  },
  {
   "cell_type": "markdown",
   "metadata": {},
   "source": [
    "## University of Nebraska-Lincoln "
   ]
  },
  {
   "cell_type": "code",
   "execution_count": 9,
   "metadata": {},
   "outputs": [
    {
     "data": {
      "text/html": [
       "<table>\n",
       "<thead><tr><th></th><th scope=col>Year</th><th scope=col>Baseball</th><th scope=col>Football</th><th scope=col>Men.s.Basketball</th><th scope=col>Men.s.Cross.Country</th><th scope=col>Men.s.Golf</th><th scope=col>Men.s.Gymnastics</th><th scope=col>Men.s.Tennis</th><th scope=col>Men.s.Track..Indoor</th><th scope=col>Men.s.Track..Outdoor</th><th scope=col>...</th><th scope=col>Women.s.Cross.Country</th><th scope=col>Women.s.Golf</th><th scope=col>Women.s.Gymnastics</th><th scope=col>Women.s.Soccer</th><th scope=col>Women.s.Softball</th><th scope=col>Women.s.Swimming</th><th scope=col>Women.s.Tennis</th><th scope=col>Women.s.Track..Indoor</th><th scope=col>Women.s.Track..Outdoor</th><th scope=col>Women.s.Volleyball</th></tr></thead>\n",
       "<tbody>\n",
       "\t<tr><th scope=row>2014</th><td>2014</td><td> 975</td><td>991 </td><td> 958</td><td>1000</td><td> 978</td><td> 983</td><td>1000</td><td>989 </td><td>989 </td><td>... </td><td>1000</td><td> 964</td><td> 983</td><td> 989</td><td> 982</td><td>1000</td><td>1000</td><td>1000</td><td>1000</td><td>1000</td></tr>\n",
       "\t<tr><th scope=row>2013</th><td>2013</td><td>1000</td><td>966 </td><td>1000</td><td> 941</td><td>1000</td><td>1000</td><td>1000</td><td>986 </td><td>986 </td><td>... </td><td>1000</td><td>1000</td><td>1000</td><td> 966</td><td> 988</td><td> 992</td><td>1000</td><td> 993</td><td> 993</td><td> 971</td></tr>\n",
       "\t<tr><th scope=row>2012</th><td>2012</td><td> 953</td><td>991 </td><td> 940</td><td>1000</td><td> 958</td><td> 960</td><td> 952</td><td>993 </td><td>993 </td><td>... </td><td> 923</td><td> 978</td><td>1000</td><td> 980</td><td>1000</td><td>1000</td><td> 971</td><td> 987</td><td> 987</td><td> 956</td></tr>\n",
       "\t<tr><th scope=row>2011</th><td>2011</td><td> 951</td><td>991 </td><td> 896</td><td>1000</td><td> 977</td><td> 958</td><td>1000</td><td>988 </td><td>988 </td><td>... </td><td>1000</td><td>1000</td><td> 981</td><td> 979</td><td> 986</td><td> 993</td><td>1000</td><td> 976</td><td> 977</td><td>1000</td></tr>\n",
       "\t<tr><th scope=row>2010</th><td>2010</td><td>1000</td><td>970 </td><td> 947</td><td> 956</td><td>1000</td><td> 906</td><td> 972</td><td>977 </td><td>977 </td><td>... </td><td>1000</td><td> 933</td><td> 962</td><td>1000</td><td> 988</td><td> 993</td><td>1000</td><td>1000</td><td>1000</td><td>1000</td></tr>\n",
       "\t<tr><th scope=row>2009</th><td>2009</td><td> 972</td><td>934 </td><td> 957</td><td>1000</td><td>1000</td><td> 979</td><td>1000</td><td>964 </td><td>964 </td><td>... </td><td>1000</td><td> 975</td><td> 969</td><td>1000</td><td> 987</td><td> 981</td><td>1000</td><td>1000</td><td>1000</td><td>1000</td></tr>\n",
       "\t<tr><th scope=row>2008</th><td>2008</td><td> 968</td><td>968 </td><td> 980</td><td>1000</td><td> 933</td><td> 978</td><td> 950</td><td>975 </td><td>975 </td><td>... </td><td>1000</td><td>1000</td><td>1000</td><td> 961</td><td> 987</td><td> 960</td><td>1000</td><td> 974</td><td> 974</td><td>1000</td></tr>\n",
       "\t<tr><th scope=row>2007</th><td>2007</td><td> 908</td><td>960 </td><td> 891</td><td> -99</td><td> 969</td><td> 977</td><td> 975</td><td>959 </td><td>959 </td><td>... </td><td>1000</td><td>1000</td><td>1000</td><td> 926</td><td> 986</td><td> 964</td><td> 938</td><td> 967</td><td> 967</td><td> 958</td></tr>\n",
       "\t<tr><th scope=row>2006</th><td>2006</td><td> 927</td><td>940 </td><td> 879</td><td> 889</td><td> 917</td><td> 929</td><td>1000</td><td>905 </td><td>905 </td><td>... </td><td> 923</td><td>1000</td><td>1000</td><td> 988</td><td>1000</td><td> 980</td><td> 906</td><td> 925</td><td> 925</td><td> 962</td></tr>\n",
       "\t<tr><th scope=row>2005</th><td>2005</td><td> 940</td><td>932 </td><td> 978</td><td> -99</td><td> 861</td><td>1000</td><td> 944</td><td>956 </td><td>956 </td><td>... </td><td>1000</td><td>1000</td><td> 981</td><td> 985</td><td> 974</td><td> 980</td><td>1000</td><td> 954</td><td> 954</td><td> 963</td></tr>\n",
       "\t<tr><th scope=row>2004</th><td>2004</td><td> 929</td><td>934 </td><td> 964</td><td> -99</td><td> 975</td><td> 925</td><td> 900</td><td>936 </td><td>936 </td><td>... </td><td> -99</td><td> 938</td><td> 981</td><td> 949</td><td> 962</td><td> 911</td><td> 972</td><td> 932</td><td> 932</td><td>1000</td></tr>\n",
       "</tbody>\n",
       "</table>\n"
      ],
      "text/latex": [
       "\\begin{tabular}{r|llllllllllllllllllllllll}\n",
       "  & Year & Baseball & Football & Men.s.Basketball & Men.s.Cross.Country & Men.s.Golf & Men.s.Gymnastics & Men.s.Tennis & Men.s.Track..Indoor & Men.s.Track..Outdoor & ... & Women.s.Cross.Country & Women.s.Golf & Women.s.Gymnastics & Women.s.Soccer & Women.s.Softball & Women.s.Swimming & Women.s.Tennis & Women.s.Track..Indoor & Women.s.Track..Outdoor & Women.s.Volleyball\\\\\n",
       "\\hline\n",
       "\t2014 & 2014 &  975 & 991  &  958 & 1000 &  978 &  983 & 1000 & 989  & 989  & ...  & 1000 &  964 &  983 &  989 &  982 & 1000 & 1000 & 1000 & 1000 & 1000\\\\\n",
       "\t2013 & 2013 & 1000 & 966  & 1000 &  941 & 1000 & 1000 & 1000 & 986  & 986  & ...  & 1000 & 1000 & 1000 &  966 &  988 &  992 & 1000 &  993 &  993 &  971\\\\\n",
       "\t2012 & 2012 &  953 & 991  &  940 & 1000 &  958 &  960 &  952 & 993  & 993  & ...  &  923 &  978 & 1000 &  980 & 1000 & 1000 &  971 &  987 &  987 &  956\\\\\n",
       "\t2011 & 2011 &  951 & 991  &  896 & 1000 &  977 &  958 & 1000 & 988  & 988  & ...  & 1000 & 1000 &  981 &  979 &  986 &  993 & 1000 &  976 &  977 & 1000\\\\\n",
       "\t2010 & 2010 & 1000 & 970  &  947 &  956 & 1000 &  906 &  972 & 977  & 977  & ...  & 1000 &  933 &  962 & 1000 &  988 &  993 & 1000 & 1000 & 1000 & 1000\\\\\n",
       "\t2009 & 2009 &  972 & 934  &  957 & 1000 & 1000 &  979 & 1000 & 964  & 964  & ...  & 1000 &  975 &  969 & 1000 &  987 &  981 & 1000 & 1000 & 1000 & 1000\\\\\n",
       "\t2008 & 2008 &  968 & 968  &  980 & 1000 &  933 &  978 &  950 & 975  & 975  & ...  & 1000 & 1000 & 1000 &  961 &  987 &  960 & 1000 &  974 &  974 & 1000\\\\\n",
       "\t2007 & 2007 &  908 & 960  &  891 &  -99 &  969 &  977 &  975 & 959  & 959  & ...  & 1000 & 1000 & 1000 &  926 &  986 &  964 &  938 &  967 &  967 &  958\\\\\n",
       "\t2006 & 2006 &  927 & 940  &  879 &  889 &  917 &  929 & 1000 & 905  & 905  & ...  &  923 & 1000 & 1000 &  988 & 1000 &  980 &  906 &  925 &  925 &  962\\\\\n",
       "\t2005 & 2005 &  940 & 932  &  978 &  -99 &  861 & 1000 &  944 & 956  & 956  & ...  & 1000 & 1000 &  981 &  985 &  974 &  980 & 1000 &  954 &  954 &  963\\\\\n",
       "\t2004 & 2004 &  929 & 934  &  964 &  -99 &  975 &  925 &  900 & 936  & 936  & ...  &  -99 &  938 &  981 &  949 &  962 &  911 &  972 &  932 &  932 & 1000\\\\\n",
       "\\end{tabular}\n"
      ],
      "text/markdown": [
       "\n",
       "| <!--/--> | Year | Baseball | Football | Men.s.Basketball | Men.s.Cross.Country | Men.s.Golf | Men.s.Gymnastics | Men.s.Tennis | Men.s.Track..Indoor | Men.s.Track..Outdoor | ... | Women.s.Cross.Country | Women.s.Golf | Women.s.Gymnastics | Women.s.Soccer | Women.s.Softball | Women.s.Swimming | Women.s.Tennis | Women.s.Track..Indoor | Women.s.Track..Outdoor | Women.s.Volleyball | \n",
       "|---|---|---|---|---|---|---|---|---|---|---|\n",
       "| 2014 | 2014 |  975 | 991  |  958 | 1000 |  978 |  983 | 1000 | 989  | 989  | ...  | 1000 |  964 |  983 |  989 |  982 | 1000 | 1000 | 1000 | 1000 | 1000 | \n",
       "| 2013 | 2013 | 1000 | 966  | 1000 |  941 | 1000 | 1000 | 1000 | 986  | 986  | ...  | 1000 | 1000 | 1000 |  966 |  988 |  992 | 1000 |  993 |  993 |  971 | \n",
       "| 2012 | 2012 |  953 | 991  |  940 | 1000 |  958 |  960 |  952 | 993  | 993  | ...  |  923 |  978 | 1000 |  980 | 1000 | 1000 |  971 |  987 |  987 |  956 | \n",
       "| 2011 | 2011 |  951 | 991  |  896 | 1000 |  977 |  958 | 1000 | 988  | 988  | ...  | 1000 | 1000 |  981 |  979 |  986 |  993 | 1000 |  976 |  977 | 1000 | \n",
       "| 2010 | 2010 | 1000 | 970  |  947 |  956 | 1000 |  906 |  972 | 977  | 977  | ...  | 1000 |  933 |  962 | 1000 |  988 |  993 | 1000 | 1000 | 1000 | 1000 | \n",
       "| 2009 | 2009 |  972 | 934  |  957 | 1000 | 1000 |  979 | 1000 | 964  | 964  | ...  | 1000 |  975 |  969 | 1000 |  987 |  981 | 1000 | 1000 | 1000 | 1000 | \n",
       "| 2008 | 2008 |  968 | 968  |  980 | 1000 |  933 |  978 |  950 | 975  | 975  | ...  | 1000 | 1000 | 1000 |  961 |  987 |  960 | 1000 |  974 |  974 | 1000 | \n",
       "| 2007 | 2007 |  908 | 960  |  891 |  -99 |  969 |  977 |  975 | 959  | 959  | ...  | 1000 | 1000 | 1000 |  926 |  986 |  964 |  938 |  967 |  967 |  958 | \n",
       "| 2006 | 2006 |  927 | 940  |  879 |  889 |  917 |  929 | 1000 | 905  | 905  | ...  |  923 | 1000 | 1000 |  988 | 1000 |  980 |  906 |  925 |  925 |  962 | \n",
       "| 2005 | 2005 |  940 | 932  |  978 |  -99 |  861 | 1000 |  944 | 956  | 956  | ...  | 1000 | 1000 |  981 |  985 |  974 |  980 | 1000 |  954 |  954 |  963 | \n",
       "| 2004 | 2004 |  929 | 934  |  964 |  -99 |  975 |  925 |  900 | 936  | 936  | ...  |  -99 |  938 |  981 |  949 |  962 |  911 |  972 |  932 |  932 | 1000 | \n",
       "\n",
       "\n"
      ],
      "text/plain": [
       "     Year Baseball Football Men.s.Basketball Men.s.Cross.Country Men.s.Golf\n",
       "2014 2014  975     991       958             1000                 978      \n",
       "2013 2013 1000     966      1000              941                1000      \n",
       "2012 2012  953     991       940             1000                 958      \n",
       "2011 2011  951     991       896             1000                 977      \n",
       "2010 2010 1000     970       947              956                1000      \n",
       "2009 2009  972     934       957             1000                1000      \n",
       "2008 2008  968     968       980             1000                 933      \n",
       "2007 2007  908     960       891              -99                 969      \n",
       "2006 2006  927     940       879              889                 917      \n",
       "2005 2005  940     932       978              -99                 861      \n",
       "2004 2004  929     934       964              -99                 975      \n",
       "     Men.s.Gymnastics Men.s.Tennis Men.s.Track..Indoor Men.s.Track..Outdoor ...\n",
       "2014  983             1000         989                 989                  ...\n",
       "2013 1000             1000         986                 986                  ...\n",
       "2012  960              952         993                 993                  ...\n",
       "2011  958             1000         988                 988                  ...\n",
       "2010  906              972         977                 977                  ...\n",
       "2009  979             1000         964                 964                  ...\n",
       "2008  978              950         975                 975                  ...\n",
       "2007  977              975         959                 959                  ...\n",
       "2006  929             1000         905                 905                  ...\n",
       "2005 1000              944         956                 956                  ...\n",
       "2004  925              900         936                 936                  ...\n",
       "     Women.s.Cross.Country Women.s.Golf Women.s.Gymnastics Women.s.Soccer\n",
       "2014 1000                   964          983                989          \n",
       "2013 1000                  1000         1000                966          \n",
       "2012  923                   978         1000                980          \n",
       "2011 1000                  1000          981                979          \n",
       "2010 1000                   933          962               1000          \n",
       "2009 1000                   975          969               1000          \n",
       "2008 1000                  1000         1000                961          \n",
       "2007 1000                  1000         1000                926          \n",
       "2006  923                  1000         1000                988          \n",
       "2005 1000                  1000          981                985          \n",
       "2004  -99                   938          981                949          \n",
       "     Women.s.Softball Women.s.Swimming Women.s.Tennis Women.s.Track..Indoor\n",
       "2014  982             1000             1000           1000                 \n",
       "2013  988              992             1000            993                 \n",
       "2012 1000             1000              971            987                 \n",
       "2011  986              993             1000            976                 \n",
       "2010  988              993             1000           1000                 \n",
       "2009  987              981             1000           1000                 \n",
       "2008  987              960             1000            974                 \n",
       "2007  986              964              938            967                 \n",
       "2006 1000              980              906            925                 \n",
       "2005  974              980             1000            954                 \n",
       "2004  962              911              972            932                 \n",
       "     Women.s.Track..Outdoor Women.s.Volleyball\n",
       "2014 1000                   1000              \n",
       "2013  993                    971              \n",
       "2012  987                    956              \n",
       "2011  977                   1000              \n",
       "2010 1000                   1000              \n",
       "2009 1000                   1000              \n",
       "2008  974                   1000              \n",
       "2007  967                    958              \n",
       "2006  925                    962              \n",
       "2005  954                    963              \n",
       "2004  932                   1000              "
      ]
     },
     "metadata": {},
     "output_type": "display_data"
    }
   ],
   "source": [
    "unl <-scores %>% filter(SCHOOL_NAME == \"University of Nebraska, Lincoln\")\n",
    "year <- unl[,c(\"SPORT_NAME\", \"X2014_SCORE\", \"X2013_SCORE\", \"X2012_SCORE\", \"X2011_SCORE\",\n",
    "               \"X2010_SCORE\", \"X2009_SCORE\", \"X2008_SCORE\", \"X2007_SCORE\", \"X2006_SCORE\",\n",
    "               \"X2005_SCORE\",\"X2004_SCORE\")]\n",
    "names(year) <- c(\"Year\", \"2014\", \"2013\", \"2012\", \"2011\", \"2010\", \"2009\", \"2008\", \"2007\", \"2006\", \"2005\", \"2004\")\n",
    "\n",
    "temp <- setNames(data.frame(t(year[,-1])), year[,1])\n",
    "unl_sports <- data.frame(\"Year\"=rownames(temp),temp)\n",
    "unl_sports"
   ]
  },
  {
   "cell_type": "code",
   "execution_count": 14,
   "metadata": {},
   "outputs": [
    {
     "data": {},
     "metadata": {},
     "output_type": "display_data"
    },
    {
     "data": {
      "image/png": "[encoded data removed]",
      "text/plain": [
       "plot without title"
      ]
     },
     "metadata": {},
     "output_type": "display_data"
    }
   ],
   "source": [
    "ggplot(unl_sports, aes(x=Year, colour=Sports, group = 1)) + \n",
    "    geom_point(aes(y=Football, colour=\"Football\")) + \n",
    "        geom_line(aes(y=Football, colour=\"Football\")) +\n",
    "    geom_point(aes(y=Men.s.Basketball, colour=\"Men's Basketball\")) + \n",
    "        geom_line(aes(y=Men.s.Basketball, colour=\"Men's Basketball\")) +\n",
    "    geom_point(aes(y=Women.s.Volleyball, colour=\"Women's Volleyball\")) +\n",
    "        geom_line(aes(y=Women.s.Volleyball, colour=\"Women's Volleyball\")) +\n",
    "    geom_point(aes(y=Baseball, colour=\"Baseball\")) +\n",
    "        geom_line(aes(y=Baseball, colour=\"Baseball\")) +\n",
    "    geom_point(aes(y=Women.s.Soccer, colour=\"Women's Soccer\")) +\n",
    "        geom_line(aes(y=Women.s.Soccer, colour=\"Women's Soccer\")) +\n",
    "    geom_point(aes(y=Women.s.Basketball, colour=\"Women's Basketball\")) +\n",
    "        geom_line(aes(y=Women.s.Basketball, colour=\"Women's Basketball\")) +\n",
    "    labs(x=\"Year\", y=\"Sports\") + scale_y_continuous(limits = c(750,1000)) + \n",
    "    ggtitle(\"Most Popular Sports' APR Scores In the Past Decade\")"
   ]
  },
  {
   "cell_type": "markdown",
   "metadata": {},
   "source": [
    "From the line chart above, we can see that among all the popular sports on campus, Men's basketball is the only sport that had APR scores below 900 in the past decade, and it also has higher flutuation compare to other popular sports. Overall, the academic perfomance for all the sports tends to become stablized between 950 and 1000 in recent years, which would be competitive among the entire NCAA."
   ]
  },
  {
   "cell_type": "markdown",
   "metadata": {},
   "source": [
    "## Conclusion "
   ]
  },
  {
   "cell_type": "markdown",
   "metadata": {},
   "source": [
    "As a public university with over 26,000 students on campus, including approximately 2,200 student-athletes, University of Nebraska-Lincoln has above average APR scores in the nation. Football, men's basketball, and women's volleyball are three of the most popular sports UNL campus. Their scores throughout the past decade have been flutuated in certain years."
   ]
  },
  {
   "cell_type": "code",
   "execution_count": null,
   "metadata": {},
   "outputs": [],
   "source": []
  }
 ],
 "metadata": {
  "kernelspec": {
   "display_name": "R",
   "language": "R",
   "name": "ir"
  },
  "language_info": {
   "codemirror_mode": "r",
   "file_extension": ".r",
   "mimetype": "text/x-r-source",
   "name": "R",
   "pygments_lexer": "r",
   "version": "3.4.2"
  }
 },
 "nbformat": 4,
 "nbformat_minor": 2
}
